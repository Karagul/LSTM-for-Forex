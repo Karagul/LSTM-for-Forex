{
  "cells": [
    {
      "cell_type": "code",
      "execution_count": 276,
      "metadata": {
        "colab": {
          "base_uri": "https://localhost:8080/",
          "height": 105
        },
        "id": "mF5Vd5p95Kqe",
        "outputId": "e1b9d69f-c521-4811-a706-832366fcf6e2"
      },
      "outputs": [
        {
          "output_type": "execute_result",
          "data": {
            "text/plain": [
              "'\\n%tensorflow_version 2.x\\nimport tensorflow as tf\\nprint(\"Tensorflow version \" + tf.__version__)\\n\\ntry:\\n  tpu = tf.distribute.cluster_resolver.TPUClusterResolver()  # TPU detection\\n  tf.config.experimental_connect_to_cluster(tpu)\\n  tf.tpu.experimental.initialize_tpu_system(tpu)\\n  tpu_strategy = tf.distribute.experimental.TPUStrategy(tpu)\\n  print(\\'Running on TPU \\', tpu.cluster_spec().as_dict()[\\'worker\\'])\\nexcept ValueError:\\n  raise BaseException(\\'ERROR: Not connected to a TPU runtime; please see the previous cell in this notebook for instructions!\\')\\n'"
            ],
            "application/vnd.google.colaboratory.intrinsic+json": {
              "type": "string"
            }
          },
          "metadata": {},
          "execution_count": 276
        }
      ],
      "source": [
        "\"\"\"\n",
        "%tensorflow_version 2.x\n",
        "import tensorflow as tf\n",
        "print(\"Tensorflow version \" + tf.__version__)\n",
        "\n",
        "try:\n",
        "  tpu = tf.distribute.cluster_resolver.TPUClusterResolver()  # TPU detection\n",
        "  tf.config.experimental_connect_to_cluster(tpu)\n",
        "  tf.tpu.experimental.initialize_tpu_system(tpu)\n",
        "  tpu_strategy = tf.distribute.experimental.TPUStrategy(tpu)\n",
        "  print('Running on TPU ', tpu.cluster_spec().as_dict()['worker'])\n",
        "except ValueError:\n",
        "  raise BaseException('ERROR: Not connected to a TPU runtime; please see the previous cell in this notebook for instructions!')\n",
        "\"\"\""
      ]
    },
    {
      "cell_type": "code",
      "execution_count": 277,
      "metadata": {
        "colab": {
          "base_uri": "https://localhost:8080/",
          "height": 363
        },
        "id": "1UOtGomdvIDb",
        "outputId": "0173473e-ba12-4bfd-e5a6-2864c9043a5c"
      },
      "outputs": [
        {
          "output_type": "execute_result",
          "data": {
            "text/plain": [
              "                       Date     Open     High      Low    Close\n",
              "346478  2021-12-31 20:45:00  1.13811  1.13847  1.13806  1.13842\n",
              "346479  2021-12-31 21:00:00  1.13842  1.13853  1.13830  1.13842\n",
              "346480  2021-12-31 21:15:00  1.13841  1.13850  1.13818  1.13821\n",
              "346481  2021-12-31 21:30:00  1.13820  1.13847  1.13809  1.13810\n",
              "346482  2021-12-31 21:45:00  1.13810  1.13836  1.13793  1.13822\n",
              "346483  2021-12-31 22:00:00  1.13822  1.13838  1.13815  1.13836\n",
              "346484  2021-12-31 22:15:00  1.13836  1.13844  1.13825  1.13828\n",
              "346485  2021-12-31 22:30:00  1.13828  1.13847  1.13802  1.13844\n",
              "346486  2021-12-31 22:45:00  1.13844  1.13845  1.13752  1.13755\n",
              "346487  2021-12-31 23:00:00  1.13755  1.13755  1.13755  1.13755"
            ],
            "text/html": [
              "\n",
              "  <div id=\"df-dabd67a8-92c5-4b53-8d0b-e6049313773f\">\n",
              "    <div class=\"colab-df-container\">\n",
              "      <div>\n",
              "<style scoped>\n",
              "    .dataframe tbody tr th:only-of-type {\n",
              "        vertical-align: middle;\n",
              "    }\n",
              "\n",
              "    .dataframe tbody tr th {\n",
              "        vertical-align: top;\n",
              "    }\n",
              "\n",
              "    .dataframe thead th {\n",
              "        text-align: right;\n",
              "    }\n",
              "</style>\n",
              "<table border=\"1\" class=\"dataframe\">\n",
              "  <thead>\n",
              "    <tr style=\"text-align: right;\">\n",
              "      <th></th>\n",
              "      <th>Date</th>\n",
              "      <th>Open</th>\n",
              "      <th>High</th>\n",
              "      <th>Low</th>\n",
              "      <th>Close</th>\n",
              "    </tr>\n",
              "  </thead>\n",
              "  <tbody>\n",
              "    <tr>\n",
              "      <th>346478</th>\n",
              "      <td>2021-12-31 20:45:00</td>\n",
              "      <td>1.13811</td>\n",
              "      <td>1.13847</td>\n",
              "      <td>1.13806</td>\n",
              "      <td>1.13842</td>\n",
              "    </tr>\n",
              "    <tr>\n",
              "      <th>346479</th>\n",
              "      <td>2021-12-31 21:00:00</td>\n",
              "      <td>1.13842</td>\n",
              "      <td>1.13853</td>\n",
              "      <td>1.13830</td>\n",
              "      <td>1.13842</td>\n",
              "    </tr>\n",
              "    <tr>\n",
              "      <th>346480</th>\n",
              "      <td>2021-12-31 21:15:00</td>\n",
              "      <td>1.13841</td>\n",
              "      <td>1.13850</td>\n",
              "      <td>1.13818</td>\n",
              "      <td>1.13821</td>\n",
              "    </tr>\n",
              "    <tr>\n",
              "      <th>346481</th>\n",
              "      <td>2021-12-31 21:30:00</td>\n",
              "      <td>1.13820</td>\n",
              "      <td>1.13847</td>\n",
              "      <td>1.13809</td>\n",
              "      <td>1.13810</td>\n",
              "    </tr>\n",
              "    <tr>\n",
              "      <th>346482</th>\n",
              "      <td>2021-12-31 21:45:00</td>\n",
              "      <td>1.13810</td>\n",
              "      <td>1.13836</td>\n",
              "      <td>1.13793</td>\n",
              "      <td>1.13822</td>\n",
              "    </tr>\n",
              "    <tr>\n",
              "      <th>346483</th>\n",
              "      <td>2021-12-31 22:00:00</td>\n",
              "      <td>1.13822</td>\n",
              "      <td>1.13838</td>\n",
              "      <td>1.13815</td>\n",
              "      <td>1.13836</td>\n",
              "    </tr>\n",
              "    <tr>\n",
              "      <th>346484</th>\n",
              "      <td>2021-12-31 22:15:00</td>\n",
              "      <td>1.13836</td>\n",
              "      <td>1.13844</td>\n",
              "      <td>1.13825</td>\n",
              "      <td>1.13828</td>\n",
              "    </tr>\n",
              "    <tr>\n",
              "      <th>346485</th>\n",
              "      <td>2021-12-31 22:30:00</td>\n",
              "      <td>1.13828</td>\n",
              "      <td>1.13847</td>\n",
              "      <td>1.13802</td>\n",
              "      <td>1.13844</td>\n",
              "    </tr>\n",
              "    <tr>\n",
              "      <th>346486</th>\n",
              "      <td>2021-12-31 22:45:00</td>\n",
              "      <td>1.13844</td>\n",
              "      <td>1.13845</td>\n",
              "      <td>1.13752</td>\n",
              "      <td>1.13755</td>\n",
              "    </tr>\n",
              "    <tr>\n",
              "      <th>346487</th>\n",
              "      <td>2021-12-31 23:00:00</td>\n",
              "      <td>1.13755</td>\n",
              "      <td>1.13755</td>\n",
              "      <td>1.13755</td>\n",
              "      <td>1.13755</td>\n",
              "    </tr>\n",
              "  </tbody>\n",
              "</table>\n",
              "</div>\n",
              "      <button class=\"colab-df-convert\" onclick=\"convertToInteractive('df-dabd67a8-92c5-4b53-8d0b-e6049313773f')\"\n",
              "              title=\"Convert this dataframe to an interactive table.\"\n",
              "              style=\"display:none;\">\n",
              "        \n",
              "  <svg xmlns=\"http://www.w3.org/2000/svg\" height=\"24px\"viewBox=\"0 0 24 24\"\n",
              "       width=\"24px\">\n",
              "    <path d=\"M0 0h24v24H0V0z\" fill=\"none\"/>\n",
              "    <path d=\"M18.56 5.44l.94 2.06.94-2.06 2.06-.94-2.06-.94-.94-2.06-.94 2.06-2.06.94zm-11 1L8.5 8.5l.94-2.06 2.06-.94-2.06-.94L8.5 2.5l-.94 2.06-2.06.94zm10 10l.94 2.06.94-2.06 2.06-.94-2.06-.94-.94-2.06-.94 2.06-2.06.94z\"/><path d=\"M17.41 7.96l-1.37-1.37c-.4-.4-.92-.59-1.43-.59-.52 0-1.04.2-1.43.59L10.3 9.45l-7.72 7.72c-.78.78-.78 2.05 0 2.83L4 21.41c.39.39.9.59 1.41.59.51 0 1.02-.2 1.41-.59l7.78-7.78 2.81-2.81c.8-.78.8-2.07 0-2.86zM5.41 20L4 18.59l7.72-7.72 1.47 1.35L5.41 20z\"/>\n",
              "  </svg>\n",
              "      </button>\n",
              "      \n",
              "  <style>\n",
              "    .colab-df-container {\n",
              "      display:flex;\n",
              "      flex-wrap:wrap;\n",
              "      gap: 12px;\n",
              "    }\n",
              "\n",
              "    .colab-df-convert {\n",
              "      background-color: #E8F0FE;\n",
              "      border: none;\n",
              "      border-radius: 50%;\n",
              "      cursor: pointer;\n",
              "      display: none;\n",
              "      fill: #1967D2;\n",
              "      height: 32px;\n",
              "      padding: 0 0 0 0;\n",
              "      width: 32px;\n",
              "    }\n",
              "\n",
              "    .colab-df-convert:hover {\n",
              "      background-color: #E2EBFA;\n",
              "      box-shadow: 0px 1px 2px rgba(60, 64, 67, 0.3), 0px 1px 3px 1px rgba(60, 64, 67, 0.15);\n",
              "      fill: #174EA6;\n",
              "    }\n",
              "\n",
              "    [theme=dark] .colab-df-convert {\n",
              "      background-color: #3B4455;\n",
              "      fill: #D2E3FC;\n",
              "    }\n",
              "\n",
              "    [theme=dark] .colab-df-convert:hover {\n",
              "      background-color: #434B5C;\n",
              "      box-shadow: 0px 1px 3px 1px rgba(0, 0, 0, 0.15);\n",
              "      filter: drop-shadow(0px 1px 2px rgba(0, 0, 0, 0.3));\n",
              "      fill: #FFFFFF;\n",
              "    }\n",
              "  </style>\n",
              "\n",
              "      <script>\n",
              "        const buttonEl =\n",
              "          document.querySelector('#df-dabd67a8-92c5-4b53-8d0b-e6049313773f button.colab-df-convert');\n",
              "        buttonEl.style.display =\n",
              "          google.colab.kernel.accessAllowed ? 'block' : 'none';\n",
              "\n",
              "        async function convertToInteractive(key) {\n",
              "          const element = document.querySelector('#df-dabd67a8-92c5-4b53-8d0b-e6049313773f');\n",
              "          const dataTable =\n",
              "            await google.colab.kernel.invokeFunction('convertToInteractive',\n",
              "                                                     [key], {});\n",
              "          if (!dataTable) return;\n",
              "\n",
              "          const docLinkHtml = 'Like what you see? Visit the ' +\n",
              "            '<a target=\"_blank\" href=https://colab.research.google.com/notebooks/data_table.ipynb>data table notebook</a>'\n",
              "            + ' to learn more about interactive tables.';\n",
              "          element.innerHTML = '';\n",
              "          dataTable['output_type'] = 'display_data';\n",
              "          await google.colab.output.renderOutput(dataTable, element);\n",
              "          const docLink = document.createElement('div');\n",
              "          docLink.innerHTML = docLinkHtml;\n",
              "          element.appendChild(docLink);\n",
              "        }\n",
              "      </script>\n",
              "    </div>\n",
              "  </div>\n",
              "  "
            ]
          },
          "metadata": {},
          "execution_count": 277
        }
      ],
      "source": [
        "import math\n",
        "import matplotlib.pyplot as plt\n",
        "import keras\n",
        "import pandas as pd\n",
        "import numpy as np\n",
        "from keras.models import Sequential\n",
        "from keras.layers import Dense\n",
        "from keras.layers import LSTM\n",
        "from keras.layers import Dropout\n",
        "from keras.layers import *\n",
        "from sklearn.preprocessing import MinMaxScaler\n",
        "from sklearn.metrics import mean_squared_error\n",
        "from sklearn.metrics import mean_absolute_error\n",
        "from sklearn.model_selection import train_test_split\n",
        "from keras.callbacks import EarlyStopping\n",
        "name   =\"M15_2008-2022_DataFrame\"\n",
        "#df=pd.read_csv(\"EURUSD.csv\")\n",
        "df = pd.read_csv('/content/drive/Othercomputers/2022 Masaüstü 2/Dersler 2022/Dersler-2021-2022-Donem-2/Lisans Github/EURUSD_'+name+'.csv', engine='python',index_col=[0])\n",
        "    \n",
        "#print(\"Number of rows and columns:\", df.shape)\n",
        "#df = df.drop('Adj Close',axis=1)\n",
        "#df = df.drop('Volume',axis=1)\n",
        "df.tail(10)"
      ]
    },
    {
      "cell_type": "code",
      "execution_count": 278,
      "metadata": {
        "colab": {
          "base_uri": "https://localhost:8080/"
        },
        "id": "D3kzNGyE-m1g",
        "outputId": "8bc2619d-297d-4f6e-b00a-f0318f520288"
      },
      "outputs": [
        {
          "output_type": "execute_result",
          "data": {
            "text/plain": [
              "(           Open     High      Low    Close\n",
              " 1       1.47220  1.47230  1.47170  1.47190\n",
              " 2       1.47200  1.47290  1.47180  1.47290\n",
              " 3       1.47280  1.47360  1.47280  1.47360\n",
              " 4       1.47350  1.47380  1.47340  1.47340\n",
              " 5       1.47350  1.47360  1.47320  1.47330\n",
              " ...         ...      ...      ...      ...\n",
              " 346483  1.13810  1.13836  1.13793  1.13822\n",
              " 346484  1.13822  1.13838  1.13815  1.13836\n",
              " 346485  1.13836  1.13844  1.13825  1.13828\n",
              " 346486  1.13828  1.13847  1.13802  1.13844\n",
              " 346487  1.13844  1.13845  1.13752  1.13755\n",
              " \n",
              " [346487 rows x 4 columns],            Open     High      Low    Close\n",
              " 0       1.47200  1.47290  1.47180  1.47290\n",
              " 1       1.47280  1.47360  1.47280  1.47360\n",
              " 2       1.47350  1.47380  1.47340  1.47340\n",
              " 3       1.47350  1.47360  1.47320  1.47330\n",
              " 4       1.47320  1.47360  1.47320  1.47360\n",
              " ...         ...      ...      ...      ...\n",
              " 346482  1.13822  1.13838  1.13815  1.13836\n",
              " 346483  1.13836  1.13844  1.13825  1.13828\n",
              " 346484  1.13828  1.13847  1.13802  1.13844\n",
              " 346485  1.13844  1.13845  1.13752  1.13755\n",
              " 346486  1.13755  1.13755  1.13755  1.13755\n",
              " \n",
              " [346487 rows x 4 columns])"
            ]
          },
          "metadata": {},
          "execution_count": 278
        }
      ],
      "source": [
        "#sc_x = MinMaxScaler(feature_range = (0, 1))\n",
        "#sc_y = MinMaxScaler(feature_range = (1, 100000))\n",
        "\n",
        "df_y = df.shift(-1, axis = 0)\n",
        "df_y =df_y.dropna()\n",
        "df_y = df_y.drop('Date',axis=1)\n",
        "#df_y = df_y*1000\n",
        "#df_y = sc_x.fit_transform(df_y)\n",
        "\n",
        "df_x = df.shift(1,axis=0)\n",
        "df_x = df_x.dropna()\n",
        "df_x = df_x.drop('Date',axis=1)\n",
        "#df_x = df_x*1000\n",
        "#df_x = sc_x.fit_transform(df_x)\n",
        "df=0\n",
        "df_x = pd.DataFrame(df_x)\n",
        "df_y = pd.DataFrame(df_y)\n",
        "df_x,df_y\n",
        "\n",
        "#a = sc_x.inverse_transform(df_x)\n",
        "#b = sc_y.inverse_transform(df_y)\n"
      ]
    },
    {
      "cell_type": "code",
      "execution_count": 279,
      "metadata": {
        "colab": {
          "base_uri": "https://localhost:8080/"
        },
        "id": "qZ-M3SjWLMFS",
        "outputId": "02d024dc-64ce-4157-a7d3-20c690cc8b7d"
      },
      "outputs": [
        {
          "output_type": "execute_result",
          "data": {
            "text/plain": [
              "((139983, 4), (102907, 4), (68948, 4), (139983, 4), (102907, 4), (68948, 4))"
            ]
          },
          "metadata": {},
          "execution_count": 279
        }
      ],
      "source": [
        "from sklearn.model_selection import train_test_split\n",
        "train_size = ((len(df_x)*90)//100)\n",
        "\n",
        "X_train, X_test, y_train, y_test = train_test_split(df_x.iloc[:train_size, 0:], df_y.iloc[:train_size, 0:], test_size=0.33,shuffle=False)\n",
        "\n",
        "X_train, X_valid, y_train, y_valid = train_test_split(X_train, y_train, test_size=0.33,shuffle=False)\n",
        "X_train.shape, X_test.shape, X_valid.shape, y_train.shape, y_test.shape, y_valid.shape \n"
      ]
    },
    {
      "cell_type": "code",
      "execution_count": 280,
      "metadata": {
        "id": "NJT6G9K-vxJh",
        "colab": {
          "base_uri": "https://localhost:8080/"
        },
        "outputId": "009fffea-841d-4388-e5d7-8de77a64dbbb"
      },
      "outputs": [
        {
          "output_type": "stream",
          "name": "stdout",
          "text": [
            "Model: \"sequential_15\"\n",
            "_________________________________________________________________\n",
            " Layer (type)                Output Shape              Param #   \n",
            "=================================================================\n",
            " lstm_55 (LSTM)              (None, 4, 250)            252000    \n",
            "                                                                 \n",
            " dropout_54 (Dropout)        (None, 4, 250)            0         \n",
            "                                                                 \n",
            " lstm_56 (LSTM)              (None, 4, 250)            501000    \n",
            "                                                                 \n",
            " dropout_55 (Dropout)        (None, 4, 250)            0         \n",
            "                                                                 \n",
            " lstm_57 (LSTM)              (None, 4, 250)            501000    \n",
            "                                                                 \n",
            " dropout_56 (Dropout)        (None, 4, 250)            0         \n",
            "                                                                 \n",
            " lstm_58 (LSTM)              (None, 250)               501000    \n",
            "                                                                 \n",
            " dropout_57 (Dropout)        (None, 250)               0         \n",
            "                                                                 \n",
            " dense_13 (Dense)            (None, 4)                 1004      \n",
            "                                                                 \n",
            "=================================================================\n",
            "Total params: 1,756,004\n",
            "Trainable params: 1,756,004\n",
            "Non-trainable params: 0\n",
            "_________________________________________________________________\n"
          ]
        }
      ],
      "source": [
        "model = Sequential()\n",
        "#Adding the first LSTM layer and some Dropout regularisation\n",
        "model.add(LSTM(units = 250, return_sequences = True, input_shape = (X_train.shape[1], 1)))\n",
        "model.add(Dropout(0.2))\n",
        "# Adding a second LSTM layer and some Dropout regularisation\n",
        "model.add(LSTM(units = 250, return_sequences = True))\n",
        "model.add(Dropout(0.2))\n",
        "# Adding a third LSTM layer and some Dropout regularisation\n",
        "model.add(LSTM(units = 250, return_sequences = True))\n",
        "model.add(Dropout(0.2))\n",
        "# Adding a fourth LSTM layer and some Dropout regularisation\n",
        "model.add(LSTM(units = 250))\n",
        "model.add(Dropout(0.2))\n",
        "# Adding the output layer\n",
        "model.add(Dense(units = 4))\n",
        "\n",
        "# Compiling the RNN\n",
        "model.compile(optimizer = 'adam', loss = 'mean_squared_error', metrics=['accuracy'])\n",
        "model.summary()\n",
        "# Fitting the RNN to the Training set"
      ]
    },
    {
      "cell_type": "code",
      "execution_count": null,
      "metadata": {
        "colab": {
          "base_uri": "https://localhost:8080/"
        },
        "id": "6R2BA7AoeFsM",
        "outputId": "e1c993a5-cce1-4e5f-b4c5-74820ad1970b"
      },
      "outputs": [
        {
          "output_type": "stream",
          "name": "stdout",
          "text": [
            "Epoch 1/100\n",
            "35/35 [==============================] - 20s 347ms/step - loss: 0.4037 - accuracy: 0.1921 - val_loss: 0.0067 - val_accuracy: 0.0476\n",
            "Epoch 2/100\n",
            "35/35 [==============================] - 10s 290ms/step - loss: 0.0148 - accuracy: 0.2502 - val_loss: 0.0130 - val_accuracy: 0.0000e+00\n",
            "Epoch 3/100\n",
            "35/35 [==============================] - 10s 292ms/step - loss: 0.0111 - accuracy: 0.2484 - val_loss: 0.0097 - val_accuracy: 0.0476\n",
            "Epoch 4/100\n",
            "35/35 [==============================] - 10s 292ms/step - loss: 0.0105 - accuracy: 0.2493 - val_loss: 0.0089 - val_accuracy: 0.0476\n",
            "Epoch 5/100\n",
            "35/35 [==============================] - 10s 293ms/step - loss: 0.0099 - accuracy: 0.2491 - val_loss: 0.0081 - val_accuracy: 0.9524\n",
            "Epoch 6/100\n",
            "35/35 [==============================] - 10s 293ms/step - loss: 0.0095 - accuracy: 0.2508 - val_loss: 0.0073 - val_accuracy: 0.0476\n",
            "Epoch 7/100\n",
            "35/35 [==============================] - 10s 293ms/step - loss: 0.0091 - accuracy: 0.2504 - val_loss: 0.0065 - val_accuracy: 0.0476\n",
            "Epoch 8/100\n",
            "35/35 [==============================] - 10s 293ms/step - loss: 0.0087 - accuracy: 0.2542 - val_loss: 0.0057 - val_accuracy: 0.0476\n",
            "Epoch 9/100\n",
            "35/35 [==============================] - 10s 292ms/step - loss: 0.0083 - accuracy: 0.2529 - val_loss: 0.0046 - val_accuracy: 0.0476\n",
            "Epoch 10/100\n",
            "35/35 [==============================] - 10s 290ms/step - loss: 0.0080 - accuracy: 0.2529 - val_loss: 0.0038 - val_accuracy: 0.0476\n",
            "Epoch 11/100\n",
            "35/35 [==============================] - 10s 293ms/step - loss: 0.0076 - accuracy: 0.2551 - val_loss: 0.0029 - val_accuracy: 0.7735\n",
            "Epoch 12/100\n",
            "35/35 [==============================] - 10s 293ms/step - loss: 0.0073 - accuracy: 0.2553 - val_loss: 0.0025 - val_accuracy: 0.0420\n",
            "Epoch 13/100\n",
            "35/35 [==============================] - 10s 291ms/step - loss: 0.0070 - accuracy: 0.2580 - val_loss: 0.0016 - val_accuracy: 0.4675\n",
            "Epoch 14/100\n",
            "35/35 [==============================] - 10s 291ms/step - loss: 0.0067 - accuracy: 0.2582 - val_loss: 0.0011 - val_accuracy: 0.9524\n",
            "Epoch 15/100\n",
            "35/35 [==============================] - 10s 289ms/step - loss: 0.0065 - accuracy: 0.2598 - val_loss: 0.0010 - val_accuracy: 0.4564\n",
            "Epoch 16/100\n",
            "35/35 [==============================] - 10s 291ms/step - loss: 0.0063 - accuracy: 0.2586 - val_loss: 8.0842e-04 - val_accuracy: 0.9521\n",
            "Epoch 17/100\n",
            "35/35 [==============================] - 10s 289ms/step - loss: 0.0061 - accuracy: 0.2611 - val_loss: 5.7643e-04 - val_accuracy: 0.0476\n",
            "Epoch 18/100\n",
            "35/35 [==============================] - 10s 290ms/step - loss: 0.0059 - accuracy: 0.2605 - val_loss: 4.4714e-04 - val_accuracy: 0.9524\n",
            "Epoch 19/100\n",
            "35/35 [==============================] - 10s 291ms/step - loss: 0.0057 - accuracy: 0.2606 - val_loss: 3.5665e-04 - val_accuracy: 0.9524\n",
            "Epoch 20/100\n",
            "35/35 [==============================] - 10s 291ms/step - loss: 0.0055 - accuracy: 0.2632 - val_loss: 4.1668e-04 - val_accuracy: 0.0476\n",
            "Epoch 21/100\n",
            "35/35 [==============================] - 10s 291ms/step - loss: 0.0053 - accuracy: 0.2620 - val_loss: 1.8615e-04 - val_accuracy: 0.9524\n",
            "Epoch 22/100\n",
            "35/35 [==============================] - 10s 292ms/step - loss: 0.0052 - accuracy: 0.2612 - val_loss: 9.4961e-05 - val_accuracy: 0.9524\n",
            "Epoch 23/100\n",
            "35/35 [==============================] - 10s 292ms/step - loss: 0.0050 - accuracy: 0.2607 - val_loss: 1.8381e-04 - val_accuracy: 0.9524\n",
            "Epoch 24/100\n",
            "35/35 [==============================] - 10s 293ms/step - loss: 0.0048 - accuracy: 0.2631 - val_loss: 4.9118e-05 - val_accuracy: 0.9524\n",
            "Epoch 25/100\n",
            "35/35 [==============================] - 10s 292ms/step - loss: 0.0047 - accuracy: 0.2616 - val_loss: 1.7859e-04 - val_accuracy: 0.9524\n",
            "Epoch 26/100\n",
            "35/35 [==============================] - 10s 291ms/step - loss: 0.0045 - accuracy: 0.2628 - val_loss: 1.2334e-04 - val_accuracy: 0.6086\n",
            "Epoch 27/100\n",
            "35/35 [==============================] - 10s 293ms/step - loss: 0.0044 - accuracy: 0.2612 - val_loss: 3.4472e-05 - val_accuracy: 0.9524\n",
            "Epoch 28/100\n",
            "35/35 [==============================] - 10s 295ms/step - loss: 0.0042 - accuracy: 0.2618 - val_loss: 3.4384e-05 - val_accuracy: 0.9524\n",
            "Epoch 29/100\n",
            "35/35 [==============================] - 10s 298ms/step - loss: 0.0041 - accuracy: 0.2613 - val_loss: 2.5974e-05 - val_accuracy: 0.7316\n",
            "Epoch 30/100\n",
            "35/35 [==============================] - 10s 294ms/step - loss: 0.0040 - accuracy: 0.2615 - val_loss: 1.0520e-04 - val_accuracy: 0.9524\n",
            "Epoch 31/100\n",
            "35/35 [==============================] - 10s 291ms/step - loss: 0.0038 - accuracy: 0.2615 - val_loss: 2.5001e-05 - val_accuracy: 0.7129\n",
            "Epoch 32/100\n",
            "35/35 [==============================] - 10s 293ms/step - loss: 0.0037 - accuracy: 0.2624 - val_loss: 4.4820e-05 - val_accuracy: 0.8942\n",
            "Epoch 33/100\n",
            "35/35 [==============================] - 10s 291ms/step - loss: 0.0036 - accuracy: 0.2618 - val_loss: 1.1692e-04 - val_accuracy: 0.6203\n",
            "Epoch 34/100\n",
            "35/35 [==============================] - 10s 292ms/step - loss: 0.0036 - accuracy: 0.2627 - val_loss: 2.3085e-04 - val_accuracy: 0.9524\n",
            "Epoch 35/100\n",
            "35/35 [==============================] - 10s 293ms/step - loss: 0.0035 - accuracy: 0.2616 - val_loss: 9.4418e-05 - val_accuracy: 0.9524\n",
            "Epoch 36/100\n",
            "35/35 [==============================] - 10s 293ms/step - loss: 0.0035 - accuracy: 0.2615 - val_loss: 1.2325e-04 - val_accuracy: 0.4937\n",
            "Epoch 37/100\n",
            "35/35 [==============================] - 10s 292ms/step - loss: 0.0033 - accuracy: 0.2600 - val_loss: 7.4221e-05 - val_accuracy: 0.9524\n",
            "Epoch 38/100\n",
            "35/35 [==============================] - 10s 293ms/step - loss: 0.0032 - accuracy: 0.2607 - val_loss: 8.1963e-05 - val_accuracy: 0.9524\n",
            "Epoch 39/100\n",
            "35/35 [==============================] - 10s 293ms/step - loss: 0.0032 - accuracy: 0.2629 - val_loss: 9.7171e-05 - val_accuracy: 0.9524\n",
            "Epoch 40/100\n",
            "35/35 [==============================] - 10s 293ms/step - loss: 0.0031 - accuracy: 0.2619 - val_loss: 3.2089e-04 - val_accuracy: 0.9524\n",
            "Epoch 41/100\n",
            " 7/35 [=====>........................] - ETA: 6s - loss: 0.0032 - accuracy: 0.2696"
          ]
        }
      ],
      "source": [
        "model.fit(X_train, y_train, epochs = 100, batch_size = 4096,validation_data=(X_valid,y_valid))"
      ]
    },
    {
      "cell_type": "code",
      "execution_count": null,
      "metadata": {
        "id": "77m9RhJBGjH0"
      },
      "outputs": [],
      "source": [
        "#model.save('/content/drive/MyDrive/EURUSD_M1_CalisanModel/')"
      ]
    },
    {
      "cell_type": "code",
      "execution_count": null,
      "metadata": {
        "id": "hAPL81idv4Gq"
      },
      "outputs": [],
      "source": [
        "predicted_stock_price = model.predict(X_test[:5])\n",
        "#predicted_stock_price = sc_y.inverse_transform(predicted_stock_price)\n",
        "#y_test = sc_y.inverse_transform(y_test)\n"
      ]
    },
    {
      "cell_type": "code",
      "execution_count": null,
      "metadata": {
        "id": "4M8PpLI1RrSE"
      },
      "outputs": [],
      "source": [
        "predicted_stock_price,y_test,df\n"
      ]
    },
    {
      "cell_type": "markdown",
      "source": [
        "array([[-0.00125543, -0.0012467 , -0.001641  , -0.00160765],\n",
        "       [-0.00149559, -0.00109674, -0.00152141, -0.00140782],\n",
        "       [-0.00104591, -0.00057671, -0.00121197, -0.00089814],\n",
        "       [-0.00099577, -0.00054668, -0.00094182, -0.00090811],\n",
        "       [-0.00105581, -0.00092672, -0.00144163, -0.00116804]])"
      ],
      "metadata": {
        "id": "WT5KoJCCMChg"
      }
    },
    {
      "cell_type": "code",
      "source": [
        "df.loc[:3118,'Date'].shape"
      ],
      "metadata": {
        "id": "j8Rb1jw7vySa"
      },
      "execution_count": null,
      "outputs": []
    },
    {
      "cell_type": "code",
      "execution_count": null,
      "metadata": {
        "id": "BLcjUds4v5Ch"
      },
      "outputs": [],
      "source": [
        "# Visualising the results\n",
        "y_test2 = np.reshape(y_test,(len(y_test),4))\n",
        "plt.plot(df.loc[:50, \"Date\"],df.loc[:50, \"Open\"], color = \"red\", label = \"Real Price\")\n",
        "plt.plot(df.loc[:50, \"Date\"],predicted_stock_price[:51], color = \"blue\", label = \"Predicted Price\")\n",
        "#plt.xticks(np.arange(0,len(df),50))\n",
        "#plt.title('Price Prediction')\n",
        "#plt.xlabel('Time')\n",
        "#plt.ylabel('Price')\n",
        "#plt.legend()\n",
        "plt.show()"
      ]
    },
    {
      "cell_type": "code",
      "execution_count": null,
      "metadata": {
        "id": "sLt0IyzEaFCA"
      },
      "outputs": [],
      "source": [
        "\"\"\"arr = np.empty(shape=(1,1,1,1))\n",
        "arr2 =  np.empty(shape=(1,1,1,1))\n",
        "arr = [1.09925,1.09962,1.09871,1.09875]\n",
        "#arr2 = [1.10096,1.10223,1.10017,1.10209]\n",
        "arr = np.reshape(arr,(1,4))\n",
        "#arr2 = np.reshape(arr2,(1,4))\n",
        "\n",
        "a = model.predict(arr)\n",
        "a\n",
        "\"\"\"\n",
        "#             open       high        low      close\n",
        "#tahmin =  1.0896426,   1.0900719,   1.0892347,   1.0896202\n",
        "#gerçek =  1.09049,     1.09174,     1.09010,     1.09170\n",
        "#fark   = -0.00084736, -0.00166808, -0.00086529, -0.00207977"
      ]
    }
  ],
  "metadata": {
    "accelerator": "TPU",
    "colab": {
      "collapsed_sections": [],
      "name": "Untitled6.ipynb",
      "provenance": [],
      "mount_file_id": "1fboSbOfO4fw4Sqt4o8T_BWXfeLF1hs0a",
      "authorship_tag": "ABX9TyOZuaqayP7r8gZvXq0dOgvO"
    },
    "kernelspec": {
      "display_name": "Python 3",
      "name": "python3"
    },
    "language_info": {
      "name": "python"
    }
  },
  "nbformat": 4,
  "nbformat_minor": 0
}