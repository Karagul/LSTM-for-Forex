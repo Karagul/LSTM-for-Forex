{
  "nbformat": 4,
  "nbformat_minor": 0,
  "metadata": {
    "colab": {
      "name": "Untitled6.ipynb",
      "provenance": [],
      "collapsed_sections": [],
      "mount_file_id": "1fboSbOfO4fw4Sqt4o8T_BWXfeLF1hs0a",
      "authorship_tag": "ABX9TyPXAqFfx0b59N1EyBOj2itr"
    },
    "kernelspec": {
      "name": "python3",
      "display_name": "Python 3"
    },
    "language_info": {
      "name": "python"
    },
    "accelerator": "TPU"
  },
  "cells": [
    {
      "cell_type": "code",
      "source": [
        "\"\"\"\n",
        "%tensorflow_version 2.x\n",
        "import tensorflow as tf\n",
        "print(\"Tensorflow version \" + tf.__version__)\n",
        "\n",
        "try:\n",
        "  tpu = tf.distribute.cluster_resolver.TPUClusterResolver()  # TPU detection\n",
        "  tf.config.experimental_connect_to_cluster(tpu)\n",
        "  tf.tpu.experimental.initialize_tpu_system(tpu)\n",
        "  tpu_strategy = tf.distribute.experimental.TPUStrategy(tpu)\n",
        "  print('Running on TPU ', tpu.cluster_spec().as_dict()['worker'])\n",
        "except ValueError:\n",
        "  raise BaseException('ERROR: Not connected to a TPU runtime; please see the previous cell in this notebook for instructions!')\n",
        "\"\"\""
      ],
      "metadata": {
        "colab": {
          "base_uri": "https://localhost:8080/",
          "height": 105
        },
        "id": "mF5Vd5p95Kqe",
        "outputId": "cc03c81e-32f5-4f49-a129-bd6021049f09"
      },
      "execution_count": 38,
      "outputs": [
        {
          "output_type": "execute_result",
          "data": {
            "text/plain": [
              "'\\n%tensorflow_version 2.x\\nimport tensorflow as tf\\nprint(\"Tensorflow version \" + tf.__version__)\\n\\ntry:\\n  tpu = tf.distribute.cluster_resolver.TPUClusterResolver()  # TPU detection\\n  tf.config.experimental_connect_to_cluster(tpu)\\n  tf.tpu.experimental.initialize_tpu_system(tpu)\\n  tpu_strategy = tf.distribute.experimental.TPUStrategy(tpu)\\n  print(\\'Running on TPU \\', tpu.cluster_spec().as_dict()[\\'worker\\'])\\nexcept ValueError:\\n  raise BaseException(\\'ERROR: Not connected to a TPU runtime; please see the previous cell in this notebook for instructions!\\')\\n'"
            ],
            "application/vnd.google.colaboratory.intrinsic+json": {
              "type": "string"
            }
          },
          "metadata": {},
          "execution_count": 38
        }
      ]
    },
    {
      "cell_type": "code",
      "execution_count": 39,
      "metadata": {
        "colab": {
          "base_uri": "https://localhost:8080/",
          "height": 380
        },
        "id": "1UOtGomdvIDb",
        "outputId": "dfa044ff-ad00-4bd7-e3bc-c2960ff68e50"
      },
      "outputs": [
        {
          "output_type": "stream",
          "name": "stdout",
          "text": [
            "Number of rows and columns: (4871857, 5)\n"
          ]
        },
        {
          "output_type": "execute_result",
          "data": {
            "text/plain": [
              "                        Date     Open     High      Low    Close\n",
              "4871847  2022-02-25 23:45:00  1.12724  1.12729  1.12721  1.12724\n",
              "4871848  2022-02-25 23:46:00  1.12723  1.12723  1.12715  1.12717\n",
              "4871849  2022-02-25 23:47:00  1.12715  1.12719  1.12712  1.12717\n",
              "4871850  2022-02-25 23:48:00  1.12718  1.12734  1.12712  1.12729\n",
              "4871851  2022-02-25 23:49:00  1.12728  1.12730  1.12717  1.12727\n",
              "4871852  2022-02-25 23:50:00  1.12726  1.12728  1.12714  1.12718\n",
              "4871853  2022-02-25 23:51:00  1.12716  1.12720  1.12712  1.12712\n",
              "4871854  2022-02-25 23:52:00  1.12716  1.12718  1.12713  1.12715\n",
              "4871855  2022-02-25 23:53:00  1.12715  1.12728  1.12711  1.12725\n",
              "4871856  2022-02-25 23:54:00  1.12726  1.12726  1.12714  1.12716"
            ],
            "text/html": [
              "\n",
              "  <div id=\"df-5e4cba26-e178-4b79-b88e-36efb25deae1\">\n",
              "    <div class=\"colab-df-container\">\n",
              "      <div>\n",
              "<style scoped>\n",
              "    .dataframe tbody tr th:only-of-type {\n",
              "        vertical-align: middle;\n",
              "    }\n",
              "\n",
              "    .dataframe tbody tr th {\n",
              "        vertical-align: top;\n",
              "    }\n",
              "\n",
              "    .dataframe thead th {\n",
              "        text-align: right;\n",
              "    }\n",
              "</style>\n",
              "<table border=\"1\" class=\"dataframe\">\n",
              "  <thead>\n",
              "    <tr style=\"text-align: right;\">\n",
              "      <th></th>\n",
              "      <th>Date</th>\n",
              "      <th>Open</th>\n",
              "      <th>High</th>\n",
              "      <th>Low</th>\n",
              "      <th>Close</th>\n",
              "    </tr>\n",
              "  </thead>\n",
              "  <tbody>\n",
              "    <tr>\n",
              "      <th>4871847</th>\n",
              "      <td>2022-02-25 23:45:00</td>\n",
              "      <td>1.12724</td>\n",
              "      <td>1.12729</td>\n",
              "      <td>1.12721</td>\n",
              "      <td>1.12724</td>\n",
              "    </tr>\n",
              "    <tr>\n",
              "      <th>4871848</th>\n",
              "      <td>2022-02-25 23:46:00</td>\n",
              "      <td>1.12723</td>\n",
              "      <td>1.12723</td>\n",
              "      <td>1.12715</td>\n",
              "      <td>1.12717</td>\n",
              "    </tr>\n",
              "    <tr>\n",
              "      <th>4871849</th>\n",
              "      <td>2022-02-25 23:47:00</td>\n",
              "      <td>1.12715</td>\n",
              "      <td>1.12719</td>\n",
              "      <td>1.12712</td>\n",
              "      <td>1.12717</td>\n",
              "    </tr>\n",
              "    <tr>\n",
              "      <th>4871850</th>\n",
              "      <td>2022-02-25 23:48:00</td>\n",
              "      <td>1.12718</td>\n",
              "      <td>1.12734</td>\n",
              "      <td>1.12712</td>\n",
              "      <td>1.12729</td>\n",
              "    </tr>\n",
              "    <tr>\n",
              "      <th>4871851</th>\n",
              "      <td>2022-02-25 23:49:00</td>\n",
              "      <td>1.12728</td>\n",
              "      <td>1.12730</td>\n",
              "      <td>1.12717</td>\n",
              "      <td>1.12727</td>\n",
              "    </tr>\n",
              "    <tr>\n",
              "      <th>4871852</th>\n",
              "      <td>2022-02-25 23:50:00</td>\n",
              "      <td>1.12726</td>\n",
              "      <td>1.12728</td>\n",
              "      <td>1.12714</td>\n",
              "      <td>1.12718</td>\n",
              "    </tr>\n",
              "    <tr>\n",
              "      <th>4871853</th>\n",
              "      <td>2022-02-25 23:51:00</td>\n",
              "      <td>1.12716</td>\n",
              "      <td>1.12720</td>\n",
              "      <td>1.12712</td>\n",
              "      <td>1.12712</td>\n",
              "    </tr>\n",
              "    <tr>\n",
              "      <th>4871854</th>\n",
              "      <td>2022-02-25 23:52:00</td>\n",
              "      <td>1.12716</td>\n",
              "      <td>1.12718</td>\n",
              "      <td>1.12713</td>\n",
              "      <td>1.12715</td>\n",
              "    </tr>\n",
              "    <tr>\n",
              "      <th>4871855</th>\n",
              "      <td>2022-02-25 23:53:00</td>\n",
              "      <td>1.12715</td>\n",
              "      <td>1.12728</td>\n",
              "      <td>1.12711</td>\n",
              "      <td>1.12725</td>\n",
              "    </tr>\n",
              "    <tr>\n",
              "      <th>4871856</th>\n",
              "      <td>2022-02-25 23:54:00</td>\n",
              "      <td>1.12726</td>\n",
              "      <td>1.12726</td>\n",
              "      <td>1.12714</td>\n",
              "      <td>1.12716</td>\n",
              "    </tr>\n",
              "  </tbody>\n",
              "</table>\n",
              "</div>\n",
              "      <button class=\"colab-df-convert\" onclick=\"convertToInteractive('df-5e4cba26-e178-4b79-b88e-36efb25deae1')\"\n",
              "              title=\"Convert this dataframe to an interactive table.\"\n",
              "              style=\"display:none;\">\n",
              "        \n",
              "  <svg xmlns=\"http://www.w3.org/2000/svg\" height=\"24px\"viewBox=\"0 0 24 24\"\n",
              "       width=\"24px\">\n",
              "    <path d=\"M0 0h24v24H0V0z\" fill=\"none\"/>\n",
              "    <path d=\"M18.56 5.44l.94 2.06.94-2.06 2.06-.94-2.06-.94-.94-2.06-.94 2.06-2.06.94zm-11 1L8.5 8.5l.94-2.06 2.06-.94-2.06-.94L8.5 2.5l-.94 2.06-2.06.94zm10 10l.94 2.06.94-2.06 2.06-.94-2.06-.94-.94-2.06-.94 2.06-2.06.94z\"/><path d=\"M17.41 7.96l-1.37-1.37c-.4-.4-.92-.59-1.43-.59-.52 0-1.04.2-1.43.59L10.3 9.45l-7.72 7.72c-.78.78-.78 2.05 0 2.83L4 21.41c.39.39.9.59 1.41.59.51 0 1.02-.2 1.41-.59l7.78-7.78 2.81-2.81c.8-.78.8-2.07 0-2.86zM5.41 20L4 18.59l7.72-7.72 1.47 1.35L5.41 20z\"/>\n",
              "  </svg>\n",
              "      </button>\n",
              "      \n",
              "  <style>\n",
              "    .colab-df-container {\n",
              "      display:flex;\n",
              "      flex-wrap:wrap;\n",
              "      gap: 12px;\n",
              "    }\n",
              "\n",
              "    .colab-df-convert {\n",
              "      background-color: #E8F0FE;\n",
              "      border: none;\n",
              "      border-radius: 50%;\n",
              "      cursor: pointer;\n",
              "      display: none;\n",
              "      fill: #1967D2;\n",
              "      height: 32px;\n",
              "      padding: 0 0 0 0;\n",
              "      width: 32px;\n",
              "    }\n",
              "\n",
              "    .colab-df-convert:hover {\n",
              "      background-color: #E2EBFA;\n",
              "      box-shadow: 0px 1px 2px rgba(60, 64, 67, 0.3), 0px 1px 3px 1px rgba(60, 64, 67, 0.15);\n",
              "      fill: #174EA6;\n",
              "    }\n",
              "\n",
              "    [theme=dark] .colab-df-convert {\n",
              "      background-color: #3B4455;\n",
              "      fill: #D2E3FC;\n",
              "    }\n",
              "\n",
              "    [theme=dark] .colab-df-convert:hover {\n",
              "      background-color: #434B5C;\n",
              "      box-shadow: 0px 1px 3px 1px rgba(0, 0, 0, 0.15);\n",
              "      filter: drop-shadow(0px 1px 2px rgba(0, 0, 0, 0.3));\n",
              "      fill: #FFFFFF;\n",
              "    }\n",
              "  </style>\n",
              "\n",
              "      <script>\n",
              "        const buttonEl =\n",
              "          document.querySelector('#df-5e4cba26-e178-4b79-b88e-36efb25deae1 button.colab-df-convert');\n",
              "        buttonEl.style.display =\n",
              "          google.colab.kernel.accessAllowed ? 'block' : 'none';\n",
              "\n",
              "        async function convertToInteractive(key) {\n",
              "          const element = document.querySelector('#df-5e4cba26-e178-4b79-b88e-36efb25deae1');\n",
              "          const dataTable =\n",
              "            await google.colab.kernel.invokeFunction('convertToInteractive',\n",
              "                                                     [key], {});\n",
              "          if (!dataTable) return;\n",
              "\n",
              "          const docLinkHtml = 'Like what you see? Visit the ' +\n",
              "            '<a target=\"_blank\" href=https://colab.research.google.com/notebooks/data_table.ipynb>data table notebook</a>'\n",
              "            + ' to learn more about interactive tables.';\n",
              "          element.innerHTML = '';\n",
              "          dataTable['output_type'] = 'display_data';\n",
              "          await google.colab.output.renderOutput(dataTable, element);\n",
              "          const docLink = document.createElement('div');\n",
              "          docLink.innerHTML = docLinkHtml;\n",
              "          element.appendChild(docLink);\n",
              "        }\n",
              "      </script>\n",
              "    </div>\n",
              "  </div>\n",
              "  "
            ]
          },
          "metadata": {},
          "execution_count": 39
        }
      ],
      "source": [
        "import math\n",
        "import matplotlib.pyplot as plt\n",
        "import keras\n",
        "import pandas as pd\n",
        "import numpy as np\n",
        "from keras.models import Sequential\n",
        "from keras.layers import Dense\n",
        "from keras.layers import LSTM\n",
        "from keras.layers import Dropout\n",
        "from keras.layers import *\n",
        "from sklearn.preprocessing import MinMaxScaler\n",
        "from sklearn.metrics import mean_squared_error\n",
        "from sklearn.metrics import mean_absolute_error\n",
        "from sklearn.model_selection import train_test_split\n",
        "from keras.callbacks import EarlyStopping\n",
        "name   =\"M1_2008-2022_DataFrame\"\n",
        "#df=pd.read_csv(\"EURUSD.csv\")\n",
        "#df = pd.read_csv('/content/drive/Othercomputers/2022 Masaüstü 2/Dersler 2022/Dersler-2021-2022-Donem-2/Lisans Github/EURUSD_'+name+'.csv', engine='python',index_col=[0])\n",
        "    \n",
        "print(\"Number of rows and columns:\", df.shape)\n",
        "#df = df.drop('Adj Close',axis=1)\n",
        "#df = df.drop('Volume',axis=1)\n",
        "df.tail(10)"
      ]
    },
    {
      "cell_type": "code",
      "source": [
        "from sklearn.model_selection import train_test_split\n",
        "X_train, X_test, y_train, y_test = train_test_split(df.iloc[:train_size, 1:].values, df.iloc[:train_size, 1:].values, test_size=0.01)\n",
        "X_train.shape, X_test.shape, y_train.shape, y_test.shape"
      ],
      "metadata": {
        "colab": {
          "base_uri": "https://localhost:8080/"
        },
        "id": "qZ-M3SjWLMFS",
        "outputId": "ba629667-2d7a-420b-9706-cf53913fbafa"
      },
      "execution_count": 40,
      "outputs": [
        {
          "output_type": "execute_result",
          "data": {
            "text/plain": [
              "((4340824, 4), (43847, 4), (4340824, 4), (43847, 4))"
            ]
          },
          "metadata": {},
          "execution_count": 40
        }
      ]
    },
    {
      "cell_type": "code",
      "source": [
        "\"\"\"\n",
        "train_size = ((len(df)*90)//100)\n",
        "training_set = df.iloc[:train_size, 1:2].values\n",
        "test_set = df.iloc[train_size:, 1:2].values\n",
        "\n",
        "training_set[:5],test_set[:5]\n",
        "\"\"\""
      ],
      "metadata": {
        "colab": {
          "base_uri": "https://localhost:8080/",
          "height": 53
        },
        "id": "bs5L7M14vZ4m",
        "outputId": "0c356b49-843e-4c46-edb4-eb63e1052a6e"
      },
      "execution_count": 41,
      "outputs": [
        {
          "output_type": "execute_result",
          "data": {
            "text/plain": [
              "'\\ntrain_size = ((len(df)*90)//100)\\ntraining_set = df.iloc[:train_size, 1:2].values\\ntest_set = df.iloc[train_size:, 1:2].values\\n\\ntraining_set[:5],test_set[:5]\\n'"
            ],
            "application/vnd.google.colaboratory.intrinsic+json": {
              "type": "string"
            }
          },
          "metadata": {},
          "execution_count": 41
        }
      ]
    },
    {
      "cell_type": "code",
      "source": [
        "\"\"\"\n",
        "# Feature Scaling\n",
        "sc = MinMaxScaler(feature_range = (0, 1))\n",
        "training_set_scaled = sc.fit_transform(training_set)\n",
        "\n",
        "time_steps_train =1 #60\n",
        "\n",
        "# Creating a data structure with 60 time-steps and 1 output\n",
        "X_train = []\n",
        "y_train = []\n",
        "for i in range(time_steps_train, train_size):\n",
        "    X_train.append(training_set_scaled[i-time_steps_train:i, 0])\n",
        "    y_train.append(training_set_scaled[i, 0])\n",
        "    print(X_train,y_train,i-time_steps_train,i)\n",
        "X_train, y_train = np.array(X_train), np.array(y_train)\n",
        "X_train = np.reshape(X_train, (X_train.shape[0], X_train.shape[1], 1))\n",
        "print(X_train.shape)\n",
        "print(y_train.shape)\n",
        "print(X_train[-5:])\n",
        "print(y_train[-5:])\n",
        "#(740, 60, 1)\n",
        "\"\"\""
      ],
      "metadata": {
        "id": "aEFktNmjviBp",
        "colab": {
          "base_uri": "https://localhost:8080/",
          "height": 122
        },
        "outputId": "4ed1de36-0238-496d-e642-cb83c6b43d6b"
      },
      "execution_count": 42,
      "outputs": [
        {
          "output_type": "execute_result",
          "data": {
            "text/plain": [
              "'\\n# Feature Scaling\\nsc = MinMaxScaler(feature_range = (0, 1))\\ntraining_set_scaled = sc.fit_transform(training_set)\\n\\ntime_steps_train =1 #60\\n\\n# Creating a data structure with 60 time-steps and 1 output\\nX_train = []\\ny_train = []\\nfor i in range(time_steps_train, train_size):\\n    X_train.append(training_set_scaled[i-time_steps_train:i, 0])\\n    y_train.append(training_set_scaled[i, 0])\\n    print(X_train,y_train,i-time_steps_train,i)\\nX_train, y_train = np.array(X_train), np.array(y_train)\\nX_train = np.reshape(X_train, (X_train.shape[0], X_train.shape[1], 1))\\nprint(X_train.shape)\\nprint(y_train.shape)\\nprint(X_train[-5:])\\nprint(y_train[-5:])\\n#(740, 60, 1)\\n'"
            ],
            "application/vnd.google.colaboratory.intrinsic+json": {
              "type": "string"
            }
          },
          "metadata": {},
          "execution_count": 42
        }
      ]
    },
    {
      "cell_type": "code",
      "source": [
        "\"\"\"# Getting the predicted stock price of 2017\n",
        "dataset_train = df.iloc[:train_size, 1:2]\n",
        "dataset_test = df.iloc[train_size:, 1:2]\n",
        "dataset_total = pd.concat((dataset_train, dataset_test), axis = 0)\n",
        "inputs = dataset_total[len(dataset_total) - len(dataset_test) - time_steps_train:].values\n",
        "inputs = inputs.reshape(-1,1)\n",
        "inputs = sc.transform(inputs)\n",
        "X_test = []\n",
        "y_test = []\n",
        "for i in range(time_steps_train, len(df)-train_size+time_steps_train): #519\n",
        "    X_test.append(inputs[i-time_steps_train:i, 0])\n",
        "    y_test.append(inputs[i, 0])\n",
        "X_test = np.array(X_test)\n",
        "y_test = np.array(y_test)\n",
        "X_test.shape\n",
        "X_test = np.reshape(X_test, (X_test.shape[0], X_test.shape[1], 1))\n",
        "#y_test = np.reshape(y_test, (y_test.shape[0], y_test.shape[1], 1))\n",
        "\n",
        "print(X_test.shape)\n",
        "print(y_test.shape)\n",
        "print(X_test[-5:])\n",
        "print(y_test[-5:])\n",
        "\n",
        "#(459, 60, 1)\n",
        "\"\"\""
      ],
      "metadata": {
        "colab": {
          "base_uri": "https://localhost:8080/",
          "height": 140
        },
        "id": "jKTBM07P8hii",
        "outputId": "fa538719-9224-424e-d9d2-24753942ae30"
      },
      "execution_count": 43,
      "outputs": [
        {
          "output_type": "execute_result",
          "data": {
            "text/plain": [
              "'# Getting the predicted stock price of 2017\\ndataset_train = df.iloc[:train_size, 1:2]\\ndataset_test = df.iloc[train_size:, 1:2]\\ndataset_total = pd.concat((dataset_train, dataset_test), axis = 0)\\ninputs = dataset_total[len(dataset_total) - len(dataset_test) - time_steps_train:].values\\ninputs = inputs.reshape(-1,1)\\ninputs = sc.transform(inputs)\\nX_test = []\\ny_test = []\\nfor i in range(time_steps_train, len(df)-train_size+time_steps_train): #519\\n    X_test.append(inputs[i-time_steps_train:i, 0])\\n    y_test.append(inputs[i, 0])\\nX_test = np.array(X_test)\\ny_test = np.array(y_test)\\nX_test.shape\\nX_test = np.reshape(X_test, (X_test.shape[0], X_test.shape[1], 1))\\n#y_test = np.reshape(y_test, (y_test.shape[0], y_test.shape[1], 1))\\n\\nprint(X_test.shape)\\nprint(y_test.shape)\\nprint(X_test[-5:])\\nprint(y_test[-5:])\\n\\n#(459, 60, 1)\\n'"
            ],
            "application/vnd.google.colaboratory.intrinsic+json": {
              "type": "string"
            }
          },
          "metadata": {},
          "execution_count": 43
        }
      ]
    },
    {
      "cell_type": "code",
      "source": [
        "model = Sequential()\n",
        "#Adding the first LSTM layer and some Dropout regularisation\n",
        "model.add(LSTM(units = 250, return_sequences = True, input_shape = (X_train.shape[1], 1)))\n",
        "model.add(Dropout(0.2))\n",
        "# Adding a second LSTM layer and some Dropout regularisation\n",
        "model.add(LSTM(units = 250, return_sequences = True))\n",
        "model.add(Dropout(0.2))\n",
        "# Adding a third LSTM layer and some Dropout regularisation\n",
        "model.add(LSTM(units = 250, return_sequences = True))\n",
        "model.add(Dropout(0.2))\n",
        "# Adding a fourth LSTM layer and some Dropout regularisation\n",
        "model.add(LSTM(units = 250))\n",
        "model.add(Dropout(0.2))\n",
        "# Adding the output layer\n",
        "model.add(Dense(units = 4))\n",
        "\n",
        "# Compiling the RNN\n",
        "model.compile(optimizer = 'adam', loss = 'mean_squared_error', metrics=['accuracy'])\n",
        "\n",
        "# Fitting the RNN to the Training set"
      ],
      "metadata": {
        "id": "NJT6G9K-vxJh"
      },
      "execution_count": 44,
      "outputs": []
    },
    {
      "cell_type": "code",
      "source": [
        "model.fit(X_train, y_train, epochs = 5, batch_size = 4096,validation_data=(X_test,y_test))"
      ],
      "metadata": {
        "colab": {
          "base_uri": "https://localhost:8080/"
        },
        "id": "6R2BA7AoeFsM",
        "outputId": "e5ab60c5-6627-4ab3-ac2f-5928421a0757"
      },
      "execution_count": null,
      "outputs": [
        {
          "output_type": "stream",
          "name": "stdout",
          "text": [
            "Epoch 1/5\n",
            "1060/1060 [==============================] - 273s 251ms/step - loss: 0.0157 - accuracy: 0.2483 - val_loss: 3.5747e-05 - val_accuracy: 0.1127\n",
            "Epoch 2/5\n",
            "  55/1060 [>.............................] - ETA: 4:11 - loss: 0.0029 - accuracy: 0.2540"
          ]
        }
      ]
    },
    {
      "cell_type": "code",
      "source": [
        "predicted_stock_price = model.predict(X_test)\n",
        "#predicted_stock_price = sc.inverse_transform(predicted_stock_price)"
      ],
      "metadata": {
        "id": "hAPL81idv4Gq"
      },
      "execution_count": null,
      "outputs": []
    },
    {
      "cell_type": "code",
      "source": [
        "predicted_stock_price[-5:],y_test[-5:]"
      ],
      "metadata": {
        "id": "4M8PpLI1RrSE"
      },
      "execution_count": null,
      "outputs": []
    },
    {
      "cell_type": "code",
      "source": [
        "# Visualising the results\n",
        "plt.plot(df.loc[train_size:, \"Date\"],y_test.values, color = \"red\", label = \"Real Price\")\n",
        "plt.plot(df.loc[train_size:, \"Date\"],predicted_stock_price, color = \"blue\", label = \"Predicted Price\")\n",
        "#plt.xticks(np.arange(0,len(df),50))\n",
        "plt.title('Price Prediction')\n",
        "plt.xlabel('Time')\n",
        "plt.ylabel('Price')\n",
        "plt.legend()\n",
        "plt.show()"
      ],
      "metadata": {
        "id": "BLcjUds4v5Ch"
      },
      "execution_count": null,
      "outputs": []
    },
    {
      "cell_type": "code",
      "source": [
        "dataset_test-predicted_stock_price"
      ],
      "metadata": {
        "id": "sLt0IyzEaFCA"
      },
      "execution_count": null,
      "outputs": []
    }
  ]
}