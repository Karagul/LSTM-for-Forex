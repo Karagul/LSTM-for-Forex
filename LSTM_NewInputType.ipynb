{
  "cells": [
    {
      "cell_type": "code",
      "execution_count": 13,
      "metadata": {
        "colab": {
          "base_uri": "https://localhost:8080/",
          "height": 105
        },
        "id": "mF5Vd5p95Kqe",
        "outputId": "d8953157-60ff-4eba-f25f-464d8058adca"
      },
      "outputs": [
        {
          "output_type": "execute_result",
          "data": {
            "text/plain": [
              "'\\n%tensorflow_version 2.x\\nimport tensorflow as tf\\nprint(\"Tensorflow version \" + tf.__version__)\\n\\ntry:\\n  tpu = tf.distribute.cluster_resolver.TPUClusterResolver()  # TPU detection\\n  tf.config.experimental_connect_to_cluster(tpu)\\n  tf.tpu.experimental.initialize_tpu_system(tpu)\\n  tpu_strategy = tf.distribute.experimental.TPUStrategy(tpu)\\n  print(\\'Running on TPU \\', tpu.cluster_spec().as_dict()[\\'worker\\'])\\nexcept ValueError:\\n  raise BaseException(\\'ERROR: Not connected to a TPU runtime; please see the previous cell in this notebook for instructions!\\')\\n'"
            ],
            "application/vnd.google.colaboratory.intrinsic+json": {
              "type": "string"
            }
          },
          "metadata": {},
          "execution_count": 13
        }
      ],
      "source": [
        "\"\"\"\n",
        "%tensorflow_version 2.x\n",
        "import tensorflow as tf\n",
        "print(\"Tensorflow version \" + tf.__version__)\n",
        "\n",
        "try:\n",
        "  tpu = tf.distribute.cluster_resolver.TPUClusterResolver()  # TPU detection\n",
        "  tf.config.experimental_connect_to_cluster(tpu)\n",
        "  tf.tpu.experimental.initialize_tpu_system(tpu)\n",
        "  tpu_strategy = tf.distribute.experimental.TPUStrategy(tpu)\n",
        "  print('Running on TPU ', tpu.cluster_spec().as_dict()['worker'])\n",
        "except ValueError:\n",
        "  raise BaseException('ERROR: Not connected to a TPU runtime; please see the previous cell in this notebook for instructions!')\n",
        "\"\"\""
      ]
    },
    {
      "cell_type": "code",
      "execution_count": 14,
      "metadata": {
        "id": "1UOtGomdvIDb"
      },
      "outputs": [],
      "source": [
        "import math\n",
        "import matplotlib.pyplot as plt\n",
        "import keras\n",
        "import pandas as pd\n",
        "import numpy as np\n",
        "from keras.models import Sequential\n",
        "from keras.layers import Dense\n",
        "from keras.layers import LSTM\n",
        "from keras.layers import Dropout\n",
        "from keras.layers import *\n",
        "from sklearn.preprocessing import MinMaxScaler\n",
        "from sklearn.metrics import mean_squared_error\n",
        "from sklearn.metrics import mean_absolute_error\n",
        "from sklearn.model_selection import train_test_split\n",
        "from keras.callbacks import EarlyStopping\n",
        "name   =\"H1_2008-2022_DataFrame\"\n",
        "#df=pd.read_csv(\"EURUSD.csv\")\n",
        "#df = pd.read_csv('/content/drive/Othercomputers/2022 Masaüstü 2/Dersler 2022/Dersler-2021-2022-Donem-2/Lisans Github/EURUSD_'+name+'.csv', engine='python',index_col=[0])\n",
        "    \n",
        "#print(\"Number of rows and columns:\", df.shape)\n",
        "#df = df.drop('Adj Close',axis=1)\n",
        "#df = df.drop('Volume',axis=1)\n",
        "#df.head(10)"
      ]
    },
    {
      "cell_type": "code",
      "source": [
        "#df_y = df.shift(-1, axis = 0)\n",
        "df_y =df_y.dropna()\n",
        "df_y\n",
        "\n",
        "#df_x = df.shift(1,axis=0)\n",
        "df_x = df_x.dropna()\n",
        "df=0\n",
        "df_x,df_y\n"
      ],
      "metadata": {
        "colab": {
          "base_uri": "https://localhost:8080/"
        },
        "id": "D3kzNGyE-m1g",
        "outputId": "ecc6d5f4-642d-41ab-9afb-47892a0f6d20"
      },
      "execution_count": 15,
      "outputs": [
        {
          "output_type": "execute_result",
          "data": {
            "text/plain": [
              "(                      Date     Open     High      Low    Close\n",
              " 1      2007-12-31 01:00:00  1.47350  1.47380  1.47320  1.47360\n",
              " 2      2007-12-31 02:00:00  1.47350  1.47470  1.47320  1.47360\n",
              " 3      2007-12-31 03:00:00  1.47370  1.47440  1.47350  1.47440\n",
              " 4      2007-12-31 04:00:00  1.47430  1.47470  1.47420  1.47440\n",
              " 5      2007-12-31 05:00:00  1.47450  1.47470  1.47420  1.47420\n",
              " ...                    ...      ...      ...      ...      ...\n",
              " 86744  2021-12-31 18:00:00  1.13717  1.13793  1.13588  1.13787\n",
              " 86745  2021-12-31 19:00:00  1.13790  1.13861  1.13769  1.13860\n",
              " 86746  2021-12-31 20:00:00  1.13860  1.13860  1.13745  1.13842\n",
              " 86747  2021-12-31 21:00:00  1.13842  1.13853  1.13793  1.13822\n",
              " 86748  2021-12-31 22:00:00  1.13822  1.13847  1.13752  1.13755\n",
              " \n",
              " [86748 rows x 5 columns],\n",
              "                       Date     Open     High      Low    Close\n",
              " 0      2007-12-31 02:00:00  1.47350  1.47470  1.47320  1.47360\n",
              " 1      2007-12-31 03:00:00  1.47370  1.47440  1.47350  1.47440\n",
              " 2      2007-12-31 04:00:00  1.47430  1.47470  1.47420  1.47440\n",
              " 3      2007-12-31 05:00:00  1.47450  1.47470  1.47420  1.47420\n",
              " 4      2007-12-31 06:00:00  1.47410  1.47460  1.47400  1.47440\n",
              " ...                    ...      ...      ...      ...      ...\n",
              " 86743  2021-12-31 19:00:00  1.13790  1.13861  1.13769  1.13860\n",
              " 86744  2021-12-31 20:00:00  1.13860  1.13860  1.13745  1.13842\n",
              " 86745  2021-12-31 21:00:00  1.13842  1.13853  1.13793  1.13822\n",
              " 86746  2021-12-31 22:00:00  1.13822  1.13847  1.13752  1.13755\n",
              " 86747  2021-12-31 23:00:00  1.13755  1.13755  1.13755  1.13755\n",
              " \n",
              " [86748 rows x 5 columns])"
            ]
          },
          "metadata": {},
          "execution_count": 15
        }
      ]
    },
    {
      "cell_type": "code",
      "execution_count": 16,
      "metadata": {
        "colab": {
          "base_uri": "https://localhost:8080/"
        },
        "id": "qZ-M3SjWLMFS",
        "outputId": "fbc79358-5f27-43b9-b8c1-f2986270de69"
      },
      "outputs": [
        {
          "output_type": "execute_result",
          "data": {
            "text/plain": [
              "((77292, 4), (781, 4), (77292, 4), (781, 4))"
            ]
          },
          "metadata": {},
          "execution_count": 16
        }
      ],
      "source": [
        "from sklearn.model_selection import train_test_split\n",
        "train_size = ((len(df_x)*90)//100)\n",
        "X_train, X_test, y_train, y_test = train_test_split(df_x.iloc[:train_size, 1:].values, df_y.iloc[:train_size, 1:].values, test_size=0.01,shuffle=True)\n",
        "X_train.shape, X_test.shape, y_train.shape, y_test.shape"
      ]
    },
    {
      "cell_type": "code",
      "execution_count": 17,
      "metadata": {
        "colab": {
          "base_uri": "https://localhost:8080/",
          "height": 53
        },
        "id": "bs5L7M14vZ4m",
        "outputId": "20566027-7445-454c-d038-53539c81dfa1"
      },
      "outputs": [
        {
          "output_type": "execute_result",
          "data": {
            "text/plain": [
              "'\\ntrain_size = ((len(df)*90)//100)\\ntraining_set = df.iloc[:train_size, 1:2].values\\ntest_set = df.iloc[train_size:, 1:2].values\\n\\ntraining_set[:5],test_set[:5]\\n'"
            ],
            "application/vnd.google.colaboratory.intrinsic+json": {
              "type": "string"
            }
          },
          "metadata": {},
          "execution_count": 17
        }
      ],
      "source": [
        "\"\"\"\n",
        "train_size = ((len(df)*90)//100)\n",
        "training_set = df.iloc[:train_size, 1:2].values\n",
        "test_set = df.iloc[train_size:, 1:2].values\n",
        "\n",
        "training_set[:5],test_set[:5]\n",
        "\"\"\""
      ]
    },
    {
      "cell_type": "code",
      "execution_count": 18,
      "metadata": {
        "colab": {
          "base_uri": "https://localhost:8080/",
          "height": 122
        },
        "id": "aEFktNmjviBp",
        "outputId": "46a39008-ce05-4857-e3d7-55653dedc7d6"
      },
      "outputs": [
        {
          "output_type": "execute_result",
          "data": {
            "text/plain": [
              "'\\n# Feature Scaling\\nsc = MinMaxScaler(feature_range = (0, 1))\\ntraining_set_scaled = sc.fit_transform(training_set)\\n\\ntime_steps_train =1 #60\\n\\n# Creating a data structure with 60 time-steps and 1 output\\nX_train = []\\ny_train = []\\nfor i in range(time_steps_train, train_size):\\n    X_train.append(training_set_scaled[i-time_steps_train:i, 0])\\n    y_train.append(training_set_scaled[i, 0])\\n    print(X_train,y_train,i-time_steps_train,i)\\nX_train, y_train = np.array(X_train), np.array(y_train)\\nX_train = np.reshape(X_train, (X_train.shape[0], X_train.shape[1], 1))\\nprint(X_train.shape)\\nprint(y_train.shape)\\nprint(X_train[-5:])\\nprint(y_train[-5:])\\n#(740, 60, 1)\\n'"
            ],
            "application/vnd.google.colaboratory.intrinsic+json": {
              "type": "string"
            }
          },
          "metadata": {},
          "execution_count": 18
        }
      ],
      "source": [
        "\"\"\"\n",
        "# Feature Scaling\n",
        "sc = MinMaxScaler(feature_range = (0, 1))\n",
        "training_set_scaled = sc.fit_transform(training_set)\n",
        "\n",
        "time_steps_train =1 #60\n",
        "\n",
        "# Creating a data structure with 60 time-steps and 1 output\n",
        "X_train = []\n",
        "y_train = []\n",
        "for i in range(time_steps_train, train_size):\n",
        "    X_train.append(training_set_scaled[i-time_steps_train:i, 0])\n",
        "    y_train.append(training_set_scaled[i, 0])\n",
        "    print(X_train,y_train,i-time_steps_train,i)\n",
        "X_train, y_train = np.array(X_train), np.array(y_train)\n",
        "X_train = np.reshape(X_train, (X_train.shape[0], X_train.shape[1], 1))\n",
        "print(X_train.shape)\n",
        "print(y_train.shape)\n",
        "print(X_train[-5:])\n",
        "print(y_train[-5:])\n",
        "#(740, 60, 1)\n",
        "\"\"\""
      ]
    },
    {
      "cell_type": "code",
      "execution_count": 19,
      "metadata": {
        "colab": {
          "base_uri": "https://localhost:8080/",
          "height": 140
        },
        "id": "jKTBM07P8hii",
        "outputId": "26339b78-be3f-4c68-daf0-f9d9d4fb4f75"
      },
      "outputs": [
        {
          "output_type": "execute_result",
          "data": {
            "text/plain": [
              "'# Getting the predicted stock price of 2017\\ndataset_train = df.iloc[:train_size, 1:2]\\ndataset_test = df.iloc[train_size:, 1:2]\\ndataset_total = pd.concat((dataset_train, dataset_test), axis = 0)\\ninputs = dataset_total[len(dataset_total) - len(dataset_test) - time_steps_train:].values\\ninputs = inputs.reshape(-1,1)\\ninputs = sc.transform(inputs)\\nX_test = []\\ny_test = []\\nfor i in range(time_steps_train, len(df)-train_size+time_steps_train): #519\\n    X_test.append(inputs[i-time_steps_train:i, 0])\\n    y_test.append(inputs[i, 0])\\nX_test = np.array(X_test)\\ny_test = np.array(y_test)\\nX_test.shape\\nX_test = np.reshape(X_test, (X_test.shape[0], X_test.shape[1], 1))\\n#y_test = np.reshape(y_test, (y_test.shape[0], y_test.shape[1], 1))\\n\\nprint(X_test.shape)\\nprint(y_test.shape)\\nprint(X_test[-5:])\\nprint(y_test[-5:])\\n\\n#(459, 60, 1)\\n'"
            ],
            "application/vnd.google.colaboratory.intrinsic+json": {
              "type": "string"
            }
          },
          "metadata": {},
          "execution_count": 19
        }
      ],
      "source": [
        "\"\"\"# Getting the predicted stock price of 2017\n",
        "dataset_train = df.iloc[:train_size, 1:2]\n",
        "dataset_test = df.iloc[train_size:, 1:2]\n",
        "dataset_total = pd.concat((dataset_train, dataset_test), axis = 0)\n",
        "inputs = dataset_total[len(dataset_total) - len(dataset_test) - time_steps_train:].values\n",
        "inputs = inputs.reshape(-1,1)\n",
        "inputs = sc.transform(inputs)\n",
        "X_test = []\n",
        "y_test = []\n",
        "for i in range(time_steps_train, len(df)-train_size+time_steps_train): #519\n",
        "    X_test.append(inputs[i-time_steps_train:i, 0])\n",
        "    y_test.append(inputs[i, 0])\n",
        "X_test = np.array(X_test)\n",
        "y_test = np.array(y_test)\n",
        "X_test.shape\n",
        "X_test = np.reshape(X_test, (X_test.shape[0], X_test.shape[1], 1))\n",
        "#y_test = np.reshape(y_test, (y_test.shape[0], y_test.shape[1], 1))\n",
        "\n",
        "print(X_test.shape)\n",
        "print(y_test.shape)\n",
        "print(X_test[-5:])\n",
        "print(y_test[-5:])\n",
        "\n",
        "#(459, 60, 1)\n",
        "\"\"\""
      ]
    },
    {
      "cell_type": "code",
      "execution_count": 20,
      "metadata": {
        "id": "NJT6G9K-vxJh"
      },
      "outputs": [],
      "source": [
        "model = Sequential()\n",
        "#Adding the first LSTM layer and some Dropout regularisation\n",
        "model.add(LSTM(units = 250, return_sequences = True, input_shape = (X_train.shape[1], 1)))\n",
        "model.add(Dropout(0.2))\n",
        "# Adding a second LSTM layer and some Dropout regularisation\n",
        "model.add(LSTM(units = 250, return_sequences = True))\n",
        "model.add(Dropout(0.2))\n",
        "# Adding a third LSTM layer and some Dropout regularisation\n",
        "model.add(LSTM(units = 250, return_sequences = True))\n",
        "model.add(Dropout(0.2))\n",
        "# Adding a fourth LSTM layer and some Dropout regularisation\n",
        "model.add(LSTM(units = 250))\n",
        "model.add(Dropout(0.2))\n",
        "# Adding the output layer\n",
        "model.add(Dense(units = 4))\n",
        "\n",
        "# Compiling the RNN\n",
        "model.compile(optimizer = 'adam', loss = 'mean_squared_error', metrics=['accuracy'])\n",
        "\n",
        "# Fitting the RNN to the Training set"
      ]
    },
    {
      "cell_type": "code",
      "execution_count": null,
      "metadata": {
        "colab": {
          "base_uri": "https://localhost:8080/"
        },
        "id": "6R2BA7AoeFsM",
        "outputId": "b9bbcc30-16f8-4de3-8a06-c769f6c1685f"
      },
      "outputs": [
        {
          "output_type": "stream",
          "name": "stdout",
          "text": [
            "Epoch 1/100\n",
            "19/19 [==============================] - 5s 256ms/step - loss: 0.0068 - accuracy: 0.2577 - val_loss: 1.7402e-04 - val_accuracy: 0.0218\n",
            "Epoch 2/100\n",
            "19/19 [==============================] - 5s 252ms/step - loss: 0.0066 - accuracy: 0.2618 - val_loss: 1.1196e-04 - val_accuracy: 0.9385\n",
            "Epoch 3/100\n",
            "19/19 [==============================] - 5s 254ms/step - loss: 0.0065 - accuracy: 0.2639 - val_loss: 1.1220e-04 - val_accuracy: 0.1408\n",
            "Epoch 4/100\n",
            "19/19 [==============================] - 5s 254ms/step - loss: 0.0063 - accuracy: 0.2579 - val_loss: 9.9920e-05 - val_accuracy: 0.5506\n",
            "Epoch 5/100\n",
            "19/19 [==============================] - 5s 254ms/step - loss: 0.0062 - accuracy: 0.2608 - val_loss: 6.5135e-05 - val_accuracy: 0.3380\n",
            "Epoch 6/100\n",
            "19/19 [==============================] - 5s 253ms/step - loss: 0.0061 - accuracy: 0.2585 - val_loss: 5.1785e-05 - val_accuracy: 0.8348\n",
            "Epoch 7/100\n",
            "19/19 [==============================] - 5s 255ms/step - loss: 0.0060 - accuracy: 0.2613 - val_loss: 4.6412e-05 - val_accuracy: 0.9731\n",
            "Epoch 8/100\n",
            "19/19 [==============================] - 5s 253ms/step - loss: 0.0058 - accuracy: 0.2630 - val_loss: 7.6247e-05 - val_accuracy: 0.9731\n",
            "Epoch 9/100\n",
            "19/19 [==============================] - 5s 253ms/step - loss: 0.0057 - accuracy: 0.2602 - val_loss: 6.3054e-05 - val_accuracy: 0.0026\n",
            "Epoch 10/100\n",
            "19/19 [==============================] - 5s 253ms/step - loss: 0.0056 - accuracy: 0.2593 - val_loss: 3.7585e-05 - val_accuracy: 0.9731\n",
            "Epoch 11/100\n",
            "19/19 [==============================] - 5s 253ms/step - loss: 0.0055 - accuracy: 0.2632 - val_loss: 7.2222e-05 - val_accuracy: 0.9731\n",
            "Epoch 12/100\n",
            "19/19 [==============================] - 5s 258ms/step - loss: 0.0054 - accuracy: 0.2628 - val_loss: 1.0364e-04 - val_accuracy: 0.9731\n",
            "Epoch 13/100\n",
            "19/19 [==============================] - 5s 252ms/step - loss: 0.0053 - accuracy: 0.2636 - val_loss: 2.7344e-05 - val_accuracy: 0.0282\n",
            "Epoch 14/100\n",
            "19/19 [==============================] - 5s 253ms/step - loss: 0.0052 - accuracy: 0.2636 - val_loss: 4.5934e-05 - val_accuracy: 0.0000e+00\n",
            "Epoch 15/100\n",
            "19/19 [==============================] - 5s 254ms/step - loss: 0.0051 - accuracy: 0.2620 - val_loss: 4.0884e-05 - val_accuracy: 0.0192\n",
            "Epoch 16/100\n",
            "19/19 [==============================] - 5s 253ms/step - loss: 0.0049 - accuracy: 0.2598 - val_loss: 4.5035e-05 - val_accuracy: 0.3892\n",
            "Epoch 17/100\n",
            "19/19 [==============================] - 5s 253ms/step - loss: 0.0049 - accuracy: 0.2643 - val_loss: 5.2331e-05 - val_accuracy: 0.9731\n",
            "Epoch 18/100\n",
            "19/19 [==============================] - 5s 252ms/step - loss: 0.0048 - accuracy: 0.2621 - val_loss: 2.4129e-05 - val_accuracy: 0.9731\n",
            "Epoch 19/100\n",
            "19/19 [==============================] - 5s 252ms/step - loss: 0.0047 - accuracy: 0.2626 - val_loss: 2.3267e-05 - val_accuracy: 0.6517\n",
            "Epoch 20/100\n",
            "19/19 [==============================] - 5s 253ms/step - loss: 0.0046 - accuracy: 0.2638 - val_loss: 2.4421e-05 - val_accuracy: 0.0154\n",
            "Epoch 21/100\n",
            "19/19 [==============================] - 5s 255ms/step - loss: 0.0045 - accuracy: 0.2621 - val_loss: 7.1597e-05 - val_accuracy: 0.8156\n",
            "Epoch 22/100\n",
            "19/19 [==============================] - 5s 253ms/step - loss: 0.0045 - accuracy: 0.2619 - val_loss: 1.5302e-05 - val_accuracy: 0.9731\n",
            "Epoch 23/100\n",
            "19/19 [==============================] - 5s 254ms/step - loss: 0.0044 - accuracy: 0.2620 - val_loss: 1.4049e-05 - val_accuracy: 0.9731\n",
            "Epoch 24/100\n",
            "19/19 [==============================] - 5s 254ms/step - loss: 0.0043 - accuracy: 0.2638 - val_loss: 3.3898e-05 - val_accuracy: 0.1716\n",
            "Epoch 25/100\n",
            "19/19 [==============================] - 5s 255ms/step - loss: 0.0042 - accuracy: 0.2637 - val_loss: 3.3790e-05 - val_accuracy: 0.8835\n",
            "Epoch 26/100\n",
            "19/19 [==============================] - 5s 254ms/step - loss: 0.0041 - accuracy: 0.2619 - val_loss: 1.8031e-05 - val_accuracy: 0.5352\n",
            "Epoch 27/100\n",
            "19/19 [==============================] - 5s 254ms/step - loss: 0.0041 - accuracy: 0.2602 - val_loss: 3.2045e-05 - val_accuracy: 0.9731\n",
            "Epoch 28/100\n",
            "19/19 [==============================] - 5s 253ms/step - loss: 0.0040 - accuracy: 0.2616 - val_loss: 5.7954e-05 - val_accuracy: 0.9731\n",
            "Epoch 29/100\n",
            "19/19 [==============================] - 5s 254ms/step - loss: 0.0039 - accuracy: 0.2621 - val_loss: 9.3857e-06 - val_accuracy: 0.6581\n",
            "Epoch 30/100\n",
            "19/19 [==============================] - 5s 256ms/step - loss: 0.0039 - accuracy: 0.2619 - val_loss: 7.8795e-05 - val_accuracy: 0.9731\n",
            "Epoch 31/100\n",
            "19/19 [==============================] - 5s 254ms/step - loss: 0.0038 - accuracy: 0.2643 - val_loss: 1.5936e-05 - val_accuracy: 0.3598\n",
            "Epoch 32/100\n",
            "19/19 [==============================] - 5s 254ms/step - loss: 0.0037 - accuracy: 0.2621 - val_loss: 1.2180e-05 - val_accuracy: 0.9731\n",
            "Epoch 33/100\n",
            "19/19 [==============================] - 5s 256ms/step - loss: 0.0037 - accuracy: 0.2622 - val_loss: 1.4764e-05 - val_accuracy: 0.9731\n",
            "Epoch 34/100\n",
            "19/19 [==============================] - 5s 254ms/step - loss: 0.0036 - accuracy: 0.2647 - val_loss: 4.0588e-05 - val_accuracy: 0.5237\n",
            "Epoch 35/100\n",
            "19/19 [==============================] - 5s 252ms/step - loss: 0.0035 - accuracy: 0.2601 - val_loss: 1.0955e-05 - val_accuracy: 0.5493\n",
            "Epoch 36/100\n",
            "19/19 [==============================] - 5s 254ms/step - loss: 0.0035 - accuracy: 0.2611 - val_loss: 5.5954e-06 - val_accuracy: 0.9731\n",
            "Epoch 37/100\n",
            "19/19 [==============================] - 5s 257ms/step - loss: 0.0034 - accuracy: 0.2610 - val_loss: 2.0781e-05 - val_accuracy: 0.9731\n",
            "Epoch 38/100\n",
            "19/19 [==============================] - 5s 257ms/step - loss: 0.0034 - accuracy: 0.2642 - val_loss: 1.5064e-05 - val_accuracy: 0.3649\n",
            "Epoch 39/100\n",
            "19/19 [==============================] - 5s 253ms/step - loss: 0.0034 - accuracy: 0.2594 - val_loss: 1.2660e-05 - val_accuracy: 0.8220\n",
            "Epoch 40/100\n",
            "19/19 [==============================] - 5s 253ms/step - loss: 0.0033 - accuracy: 0.2630 - val_loss: 6.4881e-05 - val_accuracy: 0.8335\n",
            "Epoch 41/100\n",
            "19/19 [==============================] - 5s 253ms/step - loss: 0.0032 - accuracy: 0.2636 - val_loss: 9.7974e-05 - val_accuracy: 0.6428\n",
            "Epoch 42/100\n",
            "19/19 [==============================] - 5s 253ms/step - loss: 0.0032 - accuracy: 0.2647 - val_loss: 6.5913e-06 - val_accuracy: 0.9731\n",
            "Epoch 43/100\n",
            "19/19 [==============================] - 5s 255ms/step - loss: 0.0032 - accuracy: 0.2634 - val_loss: 3.4736e-05 - val_accuracy: 0.2100\n",
            "Epoch 44/100\n",
            "19/19 [==============================] - 5s 256ms/step - loss: 0.0031 - accuracy: 0.2620 - val_loss: 6.8732e-06 - val_accuracy: 0.1255\n",
            "Epoch 45/100\n",
            "19/19 [==============================] - 5s 258ms/step - loss: 0.0031 - accuracy: 0.2649 - val_loss: 2.7148e-05 - val_accuracy: 0.9731\n",
            "Epoch 46/100\n",
            "19/19 [==============================] - 5s 257ms/step - loss: 0.0030 - accuracy: 0.2634 - val_loss: 2.3580e-05 - val_accuracy: 0.9731\n",
            "Epoch 47/100\n",
            "19/19 [==============================] - 5s 255ms/step - loss: 0.0030 - accuracy: 0.2597 - val_loss: 1.1935e-04 - val_accuracy: 0.9731\n",
            "Epoch 48/100\n",
            "19/19 [==============================] - 5s 255ms/step - loss: 0.0030 - accuracy: 0.2638 - val_loss: 1.5008e-04 - val_accuracy: 0.9731\n",
            "Epoch 49/100\n",
            "19/19 [==============================] - 5s 257ms/step - loss: 0.0029 - accuracy: 0.2601 - val_loss: 6.3674e-05 - val_accuracy: 0.6837\n",
            "Epoch 50/100\n",
            "19/19 [==============================] - 5s 254ms/step - loss: 0.0029 - accuracy: 0.2623 - val_loss: 3.7914e-05 - val_accuracy: 0.9731\n",
            "Epoch 51/100\n",
            "19/19 [==============================] - 5s 253ms/step - loss: 0.0029 - accuracy: 0.2618 - val_loss: 6.3626e-05 - val_accuracy: 0.9731\n",
            "Epoch 52/100\n",
            "19/19 [==============================] - 5s 277ms/step - loss: 0.0028 - accuracy: 0.2623 - val_loss: 8.0969e-06 - val_accuracy: 0.9731\n",
            "Epoch 53/100\n",
            "19/19 [==============================] - 5s 256ms/step - loss: 0.0028 - accuracy: 0.2606 - val_loss: 5.5638e-06 - val_accuracy: 0.9731\n",
            "Epoch 54/100\n",
            "19/19 [==============================] - 5s 259ms/step - loss: 0.0028 - accuracy: 0.2604 - val_loss: 1.8321e-04 - val_accuracy: 0.9731\n",
            "Epoch 55/100\n",
            "19/19 [==============================] - 5s 259ms/step - loss: 0.0028 - accuracy: 0.2626 - val_loss: 6.9367e-06 - val_accuracy: 0.3995\n",
            "Epoch 56/100\n",
            "19/19 [==============================] - 5s 259ms/step - loss: 0.0027 - accuracy: 0.2612 - val_loss: 3.3639e-05 - val_accuracy: 0.9731\n",
            "Epoch 57/100\n",
            "19/19 [==============================] - 5s 258ms/step - loss: 0.0027 - accuracy: 0.2626 - val_loss: 4.7952e-06 - val_accuracy: 0.9731\n",
            "Epoch 58/100\n",
            "19/19 [==============================] - 5s 259ms/step - loss: 0.0027 - accuracy: 0.2631 - val_loss: 4.8683e-06 - val_accuracy: 0.9731\n",
            "Epoch 59/100\n",
            "19/19 [==============================] - 5s 259ms/step - loss: 0.0027 - accuracy: 0.2620 - val_loss: 9.3521e-05 - val_accuracy: 0.3982\n",
            "Epoch 60/100\n",
            "19/19 [==============================] - 5s 259ms/step - loss: 0.0026 - accuracy: 0.2640 - val_loss: 1.9700e-05 - val_accuracy: 0.9731\n",
            "Epoch 61/100\n",
            "19/19 [==============================] - 5s 258ms/step - loss: 0.0026 - accuracy: 0.2613 - val_loss: 9.9546e-06 - val_accuracy: 0.9731\n",
            "Epoch 62/100\n",
            "19/19 [==============================] - 5s 257ms/step - loss: 0.0026 - accuracy: 0.2625 - val_loss: 2.1382e-05 - val_accuracy: 0.9731\n",
            "Epoch 63/100\n",
            "19/19 [==============================] - 5s 256ms/step - loss: 0.0025 - accuracy: 0.2598 - val_loss: 9.6453e-06 - val_accuracy: 0.5032\n",
            "Epoch 64/100\n",
            "19/19 [==============================] - 5s 255ms/step - loss: 0.0025 - accuracy: 0.2632 - val_loss: 1.6233e-05 - val_accuracy: 0.0474\n",
            "Epoch 65/100\n",
            "19/19 [==============================] - 5s 257ms/step - loss: 0.0025 - accuracy: 0.2616 - val_loss: 3.3367e-05 - val_accuracy: 0.9731\n",
            "Epoch 66/100\n",
            "19/19 [==============================] - 5s 256ms/step - loss: 0.0025 - accuracy: 0.2665 - val_loss: 6.5990e-06 - val_accuracy: 0.9731\n",
            "Epoch 67/100\n",
            "19/19 [==============================] - 5s 255ms/step - loss: 0.0025 - accuracy: 0.2629 - val_loss: 3.2121e-05 - val_accuracy: 0.9731\n",
            "Epoch 68/100\n",
            "19/19 [==============================] - 5s 255ms/step - loss: 0.0024 - accuracy: 0.2619 - val_loss: 5.9935e-05 - val_accuracy: 0.9731\n",
            "Epoch 69/100\n",
            "19/19 [==============================] - 5s 255ms/step - loss: 0.0025 - accuracy: 0.2624 - val_loss: 1.1818e-04 - val_accuracy: 0.1536\n",
            "Epoch 70/100\n",
            "16/19 [========================>.....] - ETA: 0s - loss: 0.0024 - accuracy: 0.2587"
          ]
        }
      ],
      "source": [
        "model.fit(X_train, y_train, epochs = 100, batch_size = 4096,validation_data=(X_test,y_test))"
      ]
    },
    {
      "cell_type": "code",
      "source": [
        "#model.save('/content/drive/MyDrive/EURUSD_M1_CalisanModel/')"
      ],
      "metadata": {
        "id": "77m9RhJBGjH0"
      },
      "execution_count": 22,
      "outputs": []
    },
    {
      "cell_type": "code",
      "execution_count": 23,
      "metadata": {
        "id": "hAPL81idv4Gq"
      },
      "outputs": [],
      "source": [
        "predicted_stock_price = model.predict(X_test)\n",
        "#predicted_stock_price = sc.inverse_transform(predicted_stock_price)"
      ]
    },
    {
      "cell_type": "code",
      "execution_count": 24,
      "metadata": {
        "colab": {
          "base_uri": "https://localhost:8080/"
        },
        "id": "4M8PpLI1RrSE",
        "outputId": "8a562f02-49d7-4208-8dc3-5e3d4e3df903"
      },
      "outputs": [
        {
          "output_type": "execute_result",
          "data": {
            "text/plain": [
              "(array([[1.1632717, 1.1574049, 1.209153 , 0.9983849]], dtype=float32),\n",
              " array([[1.49101, 1.49146, 1.49042, 1.49119]]))"
            ]
          },
          "metadata": {},
          "execution_count": 24
        }
      ],
      "source": [
        "predicted_stock_price[-1:],y_test[-1:]\n"
      ]
    },
    {
      "cell_type": "code",
      "execution_count": null,
      "metadata": {
        "id": "BLcjUds4v5Ch"
      },
      "outputs": [],
      "source": [
        "# Visualising the results\n",
        "#plt.plot(df.loc[train_size:, \"Date\"],y_test, color = \"red\", label = \"Real Price\")\n",
        "#plt.plot(df.loc[train_size:, \"Date\"],predicted_stock_price, color = \"blue\", label = \"Predicted Price\")\n",
        "#plt.xticks(np.arange(0,len(df),50))\n",
        "#plt.title('Price Prediction')\n",
        "#plt.xlabel('Time')\n",
        "#plt.ylabel('Price')\n",
        "#plt.legend()\n",
        "#plt.show()"
      ]
    },
    {
      "cell_type": "code",
      "execution_count": null,
      "metadata": {
        "id": "sLt0IyzEaFCA"
      },
      "outputs": [],
      "source": [
        "arr = np.empty(shape=(1,1,1,1))\n",
        "arr = [1.09785,1.09785,1.09735,1.09735]\n",
        "arr = np.reshape(arr,(1,4))\n",
        "a = model.predict(arr)\n",
        "a\n",
        "\n",
        "#1.0982989, 1.0983827, 1.0982116, 1.0982965\n",
        "#1.0982978, 1.0983816, 1.0982106, 1.0982955"
      ]
    }
  ],
  "metadata": {
    "accelerator": "TPU",
    "colab": {
      "collapsed_sections": [],
      "name": "Untitled6.ipynb",
      "provenance": [],
      "mount_file_id": "1fboSbOfO4fw4Sqt4o8T_BWXfeLF1hs0a",
      "authorship_tag": "ABX9TyPrExaAVs7Ki1y7VR/E9UgQ"
    },
    "kernelspec": {
      "display_name": "Python 3",
      "name": "python3"
    },
    "language_info": {
      "name": "python"
    }
  },
  "nbformat": 4,
  "nbformat_minor": 0
}