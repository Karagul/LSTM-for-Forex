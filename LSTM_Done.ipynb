{
  "nbformat": 4,
  "nbformat_minor": 0,
  "metadata": {
    "colab": {
      "name": "Untitled6.ipynb",
      "provenance": [],
      "mount_file_id": "https://github.com/Ertadis2/LSTM-for-Forex/blob/main/LSTM_Done.ipynb",
      "authorship_tag": "ABX9TyMX8St7y1gEjwqC8CaNrwmW"
    },
    "kernelspec": {
      "name": "python3",
      "display_name": "Python 3"
    },
    "language_info": {
      "name": "python"
    },
    "accelerator": "TPU"
  },
  "cells": [
    {
      "cell_type": "code",
      "source": [
        "\n",
        "%tensorflow_version 2.x\n",
        "import tensorflow as tf\n",
        "print(\"Tensorflow version \" + tf.__version__)\n",
        "\n",
        "try:\n",
        "  tpu = tf.distribute.cluster_resolver.TPUClusterResolver()  # TPU detection\n",
        "  tf.config.experimental_connect_to_cluster(tpu)\n",
        "  tf.tpu.experimental.initialize_tpu_system(tpu)\n",
        "  tpu_strategy = tf.distribute.experimental.TPUStrategy(tpu)\n",
        "  print('Running on TPU ', tpu.cluster_spec().as_dict()['worker'])\n",
        "except ValueError:\n",
        "  raise BaseException('ERROR: Not connected to a TPU runtime; please see the previous cell in this notebook for instructions!')\n"
      ],
      "metadata": {
        "id": "mF5Vd5p95Kqe"
      },
      "execution_count": null,
      "outputs": []
    },
    {
      "cell_type": "code",
      "execution_count": 6,
      "metadata": {
        "colab": {
          "base_uri": "https://localhost:8080/",
          "height": 381
        },
        "id": "1UOtGomdvIDb",
        "outputId": "7b54f7ae-a26d-4684-b970-ce18fd4996ba"
      },
      "outputs": [
        {
          "output_type": "stream",
          "name": "stdout",
          "text": [
            "Number of rows and columns: (8356243, 5)\n"
          ]
        },
        {
          "output_type": "execute_result",
          "data": {
            "text/html": [
              "\n",
              "  <div id=\"df-b97a8332-c80f-4bc0-ba17-5f16ea10deb1\">\n",
              "    <div class=\"colab-df-container\">\n",
              "      <div>\n",
              "<style scoped>\n",
              "    .dataframe tbody tr th:only-of-type {\n",
              "        vertical-align: middle;\n",
              "    }\n",
              "\n",
              "    .dataframe tbody tr th {\n",
              "        vertical-align: top;\n",
              "    }\n",
              "\n",
              "    .dataframe thead th {\n",
              "        text-align: right;\n",
              "    }\n",
              "</style>\n",
              "<table border=\"1\" class=\"dataframe\">\n",
              "  <thead>\n",
              "    <tr style=\"text-align: right;\">\n",
              "      <th></th>\n",
              "      <th>Date</th>\n",
              "      <th>Open</th>\n",
              "      <th>High</th>\n",
              "      <th>Low</th>\n",
              "      <th>Close</th>\n",
              "    </tr>\n",
              "  </thead>\n",
              "  <tbody>\n",
              "    <tr>\n",
              "      <th>8356233</th>\n",
              "      <td>2022-03-10 18:52:00</td>\n",
              "      <td>1.10086</td>\n",
              "      <td>1.10097</td>\n",
              "      <td>1.10076</td>\n",
              "      <td>1.10079</td>\n",
              "    </tr>\n",
              "    <tr>\n",
              "      <th>8356234</th>\n",
              "      <td>2022-03-10 18:53:00</td>\n",
              "      <td>1.10079</td>\n",
              "      <td>1.10079</td>\n",
              "      <td>1.10034</td>\n",
              "      <td>1.10050</td>\n",
              "    </tr>\n",
              "    <tr>\n",
              "      <th>8356235</th>\n",
              "      <td>2022-03-10 18:54:00</td>\n",
              "      <td>1.10050</td>\n",
              "      <td>1.10054</td>\n",
              "      <td>1.10040</td>\n",
              "      <td>1.10043</td>\n",
              "    </tr>\n",
              "    <tr>\n",
              "      <th>8356236</th>\n",
              "      <td>2022-03-10 18:55:00</td>\n",
              "      <td>1.10044</td>\n",
              "      <td>1.10044</td>\n",
              "      <td>1.10019</td>\n",
              "      <td>1.10035</td>\n",
              "    </tr>\n",
              "    <tr>\n",
              "      <th>8356237</th>\n",
              "      <td>2022-03-10 18:56:00</td>\n",
              "      <td>1.10035</td>\n",
              "      <td>1.10050</td>\n",
              "      <td>1.10033</td>\n",
              "      <td>1.10035</td>\n",
              "    </tr>\n",
              "    <tr>\n",
              "      <th>8356238</th>\n",
              "      <td>2022-03-10 18:57:00</td>\n",
              "      <td>1.10035</td>\n",
              "      <td>1.10053</td>\n",
              "      <td>1.10029</td>\n",
              "      <td>1.10049</td>\n",
              "    </tr>\n",
              "    <tr>\n",
              "      <th>8356239</th>\n",
              "      <td>2022-03-10 18:58:00</td>\n",
              "      <td>1.10049</td>\n",
              "      <td>1.10069</td>\n",
              "      <td>1.10026</td>\n",
              "      <td>1.10029</td>\n",
              "    </tr>\n",
              "    <tr>\n",
              "      <th>8356240</th>\n",
              "      <td>2022-03-10 18:59:00</td>\n",
              "      <td>1.10030</td>\n",
              "      <td>1.10076</td>\n",
              "      <td>1.10029</td>\n",
              "      <td>1.10068</td>\n",
              "    </tr>\n",
              "    <tr>\n",
              "      <th>8356241</th>\n",
              "      <td>2022-03-10 19:00:00</td>\n",
              "      <td>1.10069</td>\n",
              "      <td>1.10079</td>\n",
              "      <td>1.10054</td>\n",
              "      <td>1.10066</td>\n",
              "    </tr>\n",
              "    <tr>\n",
              "      <th>8356242</th>\n",
              "      <td>2022-03-10 19:01:00</td>\n",
              "      <td>1.10066</td>\n",
              "      <td>1.10070</td>\n",
              "      <td>1.10065</td>\n",
              "      <td>1.10069</td>\n",
              "    </tr>\n",
              "  </tbody>\n",
              "</table>\n",
              "</div>\n",
              "      <button class=\"colab-df-convert\" onclick=\"convertToInteractive('df-b97a8332-c80f-4bc0-ba17-5f16ea10deb1')\"\n",
              "              title=\"Convert this dataframe to an interactive table.\"\n",
              "              style=\"display:none;\">\n",
              "        \n",
              "  <svg xmlns=\"http://www.w3.org/2000/svg\" height=\"24px\"viewBox=\"0 0 24 24\"\n",
              "       width=\"24px\">\n",
              "    <path d=\"M0 0h24v24H0V0z\" fill=\"none\"/>\n",
              "    <path d=\"M18.56 5.44l.94 2.06.94-2.06 2.06-.94-2.06-.94-.94-2.06-.94 2.06-2.06.94zm-11 1L8.5 8.5l.94-2.06 2.06-.94-2.06-.94L8.5 2.5l-.94 2.06-2.06.94zm10 10l.94 2.06.94-2.06 2.06-.94-2.06-.94-.94-2.06-.94 2.06-2.06.94z\"/><path d=\"M17.41 7.96l-1.37-1.37c-.4-.4-.92-.59-1.43-.59-.52 0-1.04.2-1.43.59L10.3 9.45l-7.72 7.72c-.78.78-.78 2.05 0 2.83L4 21.41c.39.39.9.59 1.41.59.51 0 1.02-.2 1.41-.59l7.78-7.78 2.81-2.81c.8-.78.8-2.07 0-2.86zM5.41 20L4 18.59l7.72-7.72 1.47 1.35L5.41 20z\"/>\n",
              "  </svg>\n",
              "      </button>\n",
              "      \n",
              "  <style>\n",
              "    .colab-df-container {\n",
              "      display:flex;\n",
              "      flex-wrap:wrap;\n",
              "      gap: 12px;\n",
              "    }\n",
              "\n",
              "    .colab-df-convert {\n",
              "      background-color: #E8F0FE;\n",
              "      border: none;\n",
              "      border-radius: 50%;\n",
              "      cursor: pointer;\n",
              "      display: none;\n",
              "      fill: #1967D2;\n",
              "      height: 32px;\n",
              "      padding: 0 0 0 0;\n",
              "      width: 32px;\n",
              "    }\n",
              "\n",
              "    .colab-df-convert:hover {\n",
              "      background-color: #E2EBFA;\n",
              "      box-shadow: 0px 1px 2px rgba(60, 64, 67, 0.3), 0px 1px 3px 1px rgba(60, 64, 67, 0.15);\n",
              "      fill: #174EA6;\n",
              "    }\n",
              "\n",
              "    [theme=dark] .colab-df-convert {\n",
              "      background-color: #3B4455;\n",
              "      fill: #D2E3FC;\n",
              "    }\n",
              "\n",
              "    [theme=dark] .colab-df-convert:hover {\n",
              "      background-color: #434B5C;\n",
              "      box-shadow: 0px 1px 3px 1px rgba(0, 0, 0, 0.15);\n",
              "      filter: drop-shadow(0px 1px 2px rgba(0, 0, 0, 0.3));\n",
              "      fill: #FFFFFF;\n",
              "    }\n",
              "  </style>\n",
              "\n",
              "      <script>\n",
              "        const buttonEl =\n",
              "          document.querySelector('#df-b97a8332-c80f-4bc0-ba17-5f16ea10deb1 button.colab-df-convert');\n",
              "        buttonEl.style.display =\n",
              "          google.colab.kernel.accessAllowed ? 'block' : 'none';\n",
              "\n",
              "        async function convertToInteractive(key) {\n",
              "          const element = document.querySelector('#df-b97a8332-c80f-4bc0-ba17-5f16ea10deb1');\n",
              "          const dataTable =\n",
              "            await google.colab.kernel.invokeFunction('convertToInteractive',\n",
              "                                                     [key], {});\n",
              "          if (!dataTable) return;\n",
              "\n",
              "          const docLinkHtml = 'Like what you see? Visit the ' +\n",
              "            '<a target=\"_blank\" href=https://colab.research.google.com/notebooks/data_table.ipynb>data table notebook</a>'\n",
              "            + ' to learn more about interactive tables.';\n",
              "          element.innerHTML = '';\n",
              "          dataTable['output_type'] = 'display_data';\n",
              "          await google.colab.output.renderOutput(dataTable, element);\n",
              "          const docLink = document.createElement('div');\n",
              "          docLink.innerHTML = docLinkHtml;\n",
              "          element.appendChild(docLink);\n",
              "        }\n",
              "      </script>\n",
              "    </div>\n",
              "  </div>\n",
              "  "
            ],
            "text/plain": [
              "                        Date     Open     High      Low    Close\n",
              "8356233  2022-03-10 18:52:00  1.10086  1.10097  1.10076  1.10079\n",
              "8356234  2022-03-10 18:53:00  1.10079  1.10079  1.10034  1.10050\n",
              "8356235  2022-03-10 18:54:00  1.10050  1.10054  1.10040  1.10043\n",
              "8356236  2022-03-10 18:55:00  1.10044  1.10044  1.10019  1.10035\n",
              "8356237  2022-03-10 18:56:00  1.10035  1.10050  1.10033  1.10035\n",
              "8356238  2022-03-10 18:57:00  1.10035  1.10053  1.10029  1.10049\n",
              "8356239  2022-03-10 18:58:00  1.10049  1.10069  1.10026  1.10029\n",
              "8356240  2022-03-10 18:59:00  1.10030  1.10076  1.10029  1.10068\n",
              "8356241  2022-03-10 19:00:00  1.10069  1.10079  1.10054  1.10066\n",
              "8356242  2022-03-10 19:01:00  1.10066  1.10070  1.10065  1.10069"
            ]
          },
          "metadata": {},
          "execution_count": 6
        }
      ],
      "source": [
        "import math\n",
        "import matplotlib.pyplot as plt\n",
        "import keras\n",
        "import pandas as pd\n",
        "import numpy as np\n",
        "from keras.models import Sequential\n",
        "from keras.layers import Dense\n",
        "from keras.layers import LSTM\n",
        "from keras.layers import Dropout\n",
        "from keras.layers import *\n",
        "from sklearn.preprocessing import MinMaxScaler\n",
        "from sklearn.metrics import mean_squared_error\n",
        "from sklearn.metrics import mean_absolute_error\n",
        "from sklearn.model_selection import train_test_split\n",
        "from keras.callbacks import EarlyStopping\n",
        "#name   =\"M1_hazirVeri_toplu_2008-2022_dongulu\"\n",
        "path = \"/content/drive/MyDrive/EURUSD_M1_23yil_DataFrame\"\n",
        "df = pd.read_csv(path+\".csv\")\n",
        "df = pd.DataFrame(df,columns=['Date','Open',\"High\",\"Low\",\"Close\"])\n",
        "\n",
        "import dill\n",
        "dill.dump_session(path+'.db')\n",
        "#dill.load_session(path+'.db')\n",
        "print(\"Number of rows and columns:\", df.shape)\n",
        "df.tail(10)"
      ]
    },
    {
      "cell_type": "code",
      "source": [
        "train_size = ((len(df)*90)//100)\n",
        "training_set = df.iloc[:train_size, 1:2].values\n",
        "test_set = df.iloc[train_size:, 1:2].values\n",
        "\n",
        "'Done'"
      ],
      "metadata": {
        "colab": {
          "base_uri": "https://localhost:8080/",
          "height": 36
        },
        "id": "bs5L7M14vZ4m",
        "outputId": "8acb3275-fd74-4889-8494-9631d9e306b3"
      },
      "execution_count": 7,
      "outputs": [
        {
          "output_type": "execute_result",
          "data": {
            "application/vnd.google.colaboratory.intrinsic+json": {
              "type": "string"
            },
            "text/plain": [
              "'Done'"
            ]
          },
          "metadata": {},
          "execution_count": 7
        }
      ]
    },
    {
      "cell_type": "code",
      "source": [
        "# Feature Scaling\n",
        "sc = MinMaxScaler(feature_range = (0, 1))\n",
        "training_set_scaled =training_set #sc.fit_transform(training_set)\n",
        "\n",
        "time_steps_train = 2\n",
        "\n",
        "# Creating a data structure with 2 time-steps and 1 output\n",
        "X_train = []\n",
        "y_train = []\n",
        "for i in range(time_steps_train, train_size):\n",
        "    X_train.append(training_set_scaled[i-time_steps_train:i, 0])\n",
        "    y_train.append(training_set_scaled[i, 0])\n",
        "X_train, y_train = np.array(X_train), np.array(y_train)\n",
        "X_train = np.reshape(X_train, (X_train.shape[0], X_train.shape[1], 1))\n",
        "#(740, 60, 1)\n",
        "\n",
        "'Done'"
      ],
      "metadata": {
        "id": "aEFktNmjviBp",
        "colab": {
          "base_uri": "https://localhost:8080/",
          "height": 36
        },
        "outputId": "08821d1a-b258-4d26-9eaf-cee5007c760a"
      },
      "execution_count": 8,
      "outputs": [
        {
          "output_type": "execute_result",
          "data": {
            "application/vnd.google.colaboratory.intrinsic+json": {
              "type": "string"
            },
            "text/plain": [
              "'Done'"
            ]
          },
          "metadata": {},
          "execution_count": 8
        }
      ]
    },
    {
      "cell_type": "code",
      "source": [
        "# Getting the predicted\n",
        "dataset_train = df.iloc[:train_size, 1:2]\n",
        "dataset_test = df.iloc[train_size:, 1:2]\n",
        "dataset_total = pd.concat((dataset_train, dataset_test), axis = 0)\n",
        "inputs = dataset_total[len(dataset_total) - len(dataset_test) - time_steps_train:].values\n",
        "inputs = inputs.reshape(-1,1)\n",
        "#inputs = sc.transform(inputs)\n",
        "X_test = []\n",
        "y_test = []\n",
        "for i in range(time_steps_train, len(df)-train_size+time_steps_train): #519\n",
        "    X_test.append(inputs[i-time_steps_train:i, 0])\n",
        "    y_test.append(inputs[i, 0])\n",
        "X_test = np.array(X_test)\n",
        "y_test = np.array(y_test)\n",
        "X_test.shape\n",
        "X_test = np.reshape(X_test, (X_test.shape[0], X_test.shape[1], 1))\n",
        "#y_test = np.reshape(y_test, (y_test.shape[0], y_test.shape[1], 1))\n",
        "print(X_test.shape,y_test.shape)\n",
        "#(459, 60, 1)\n",
        "\n",
        "'Done'"
      ],
      "metadata": {
        "colab": {
          "base_uri": "https://localhost:8080/",
          "height": 54
        },
        "id": "z8zuD4cHtBLX",
        "outputId": "c67f4a1e-4cee-4156-f933-b5ee94c907d7"
      },
      "execution_count": 9,
      "outputs": [
        {
          "output_type": "stream",
          "name": "stdout",
          "text": [
            "(835625, 2, 1) (835625,)\n"
          ]
        },
        {
          "output_type": "execute_result",
          "data": {
            "application/vnd.google.colaboratory.intrinsic+json": {
              "type": "string"
            },
            "text/plain": [
              "'Done'"
            ]
          },
          "metadata": {},
          "execution_count": 9
        }
      ]
    },
    {
      "cell_type": "code",
      "source": [
        "model = Sequential()\n",
        "#Adding the first LSTM layer and some Dropout regularisation\n",
        "model.add(LSTM(units = 250, return_sequences = True, input_shape = (X_train.shape[1], 1)))\n",
        "model.add(Dropout(0.2))\n",
        "# Adding a second LSTM layer and some Dropout regularisation\n",
        "model.add(LSTM(units = 250, return_sequences = True))\n",
        "model.add(Dropout(0.2))\n",
        "# Adding a third LSTM layer and some Dropout regularisation\n",
        "model.add(LSTM(units = 250, return_sequences = True))\n",
        "model.add(Dropout(0.2))\n",
        "# Adding a fourth LSTM layer and some Dropout regularisation\n",
        "model.add(LSTM(units = 250))\n",
        "model.add(Dropout(0.2))\n",
        "# Adding the output layer\n",
        "model.add(Dense(units = 1))\n",
        "\n",
        "# Compiling the RNN\n",
        "model.compile(optimizer = 'adam', loss = 'mean_squared_error', metrics=['accuracy'])\n",
        "\n",
        "# Fitting the RNN to the Training set\n",
        "'Done'"
      ],
      "metadata": {
        "id": "NJT6G9K-vxJh",
        "colab": {
          "base_uri": "https://localhost:8080/",
          "height": 36
        },
        "outputId": "f25d168e-acbd-4743-d0df-9331a15db34f"
      },
      "execution_count": 10,
      "outputs": [
        {
          "output_type": "execute_result",
          "data": {
            "application/vnd.google.colaboratory.intrinsic+json": {
              "type": "string"
            },
            "text/plain": [
              "'Done'"
            ]
          },
          "metadata": {},
          "execution_count": 10
        }
      ]
    },
    {
      "cell_type": "code",
      "source": [
        "model.fit(X_train, y_train, epochs = 10, batch_size = 4096,validation_data=(X_test,y_test))"
      ],
      "metadata": {
        "colab": {
          "base_uri": "https://localhost:8080/"
        },
        "id": "6R2BA7AoeFsM",
        "outputId": "42fd793e-396a-449d-b227-9c9ff2220234"
      },
      "execution_count": null,
      "outputs": [
        {
          "output_type": "stream",
          "name": "stdout",
          "text": [
            "Epoch 1/10\n",
            " 233/1837 [==>...........................] - ETA: 3:48 - loss: 0.0652 - accuracy: 2.3052e-05"
          ]
        }
      ]
    },
    {
      "cell_type": "code",
      "source": [
        "predicted_stock_price = model.predict(X_test)\n",
        "#predicted_stock_price = sc.inverse_transform(predicted_stock_price)\n",
        "'Done'"
      ],
      "metadata": {
        "id": "hAPL81idv4Gq"
      },
      "execution_count": null,
      "outputs": []
    },
    {
      "cell_type": "code",
      "source": [
        "# Visualising the results\n",
        "plt.plot(df.loc[train_size:, \"Index\"],dataset_test.values, color = \"red\", label = \"Real Price\")\n",
        "plt.plot(df.loc[train_size:, \"Index\"],predicted_stock_price, color = \"blue\", label = \"Predicted Price\")\n",
        "#plt.xticks(np.arange(0,len(df),50))\n",
        "plt.title('Price Prediction')\n",
        "plt.xlabel('Time')\n",
        "plt.ylabel('Price')\n",
        "plt.legend()\n",
        "plt.show()\n",
        "'Done'"
      ],
      "metadata": {
        "id": "BLcjUds4v5Ch"
      },
      "execution_count": null,
      "outputs": []
    },
    {
      "cell_type": "code",
      "source": [
        "dataset_test.shape,predicted_stock_price.shape"
      ],
      "metadata": {
        "id": "wNSyH9FB6xnD"
      },
      "execution_count": null,
      "outputs": []
    }
  ]
}