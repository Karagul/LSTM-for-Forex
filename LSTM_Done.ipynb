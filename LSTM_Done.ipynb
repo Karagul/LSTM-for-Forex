{
  "cells": [
    {
      "cell_type": "code",
      "execution_count": null,
      "metadata": {
        "id": "mF5Vd5p95Kqe"
      },
      "outputs": [],
      "source": [
        "\"\"\"\n",
        "%tensorflow_version 2.x\n",
        "import tensorflow as tf\n",
        "print(\"Tensorflow version \" + tf.__version__)\n",
        "\n",
        "try:\n",
        "  tpu = tf.distribute.cluster_resolver.TPUClusterResolver()  # TPU detection\n",
        "  tf.config.experimental_connect_to_cluster(tpu)\n",
        "  tf.tpu.experimental.initialize_tpu_system(tpu)\n",
        "  tpu_strategy = tf.distribute.experimental.TPUStrategy(tpu)\n",
        "  print('Running on TPU ', tpu.cluster_spec().as_dict()['worker'])\n",
        "except ValueError:\n",
        "  raise BaseException('ERROR: Not connected to a TPU runtime; please see the previous cell in this notebook for instructions!')\n",
        "\"\"\""
      ]
    },
    {
      "cell_type": "code",
      "execution_count": null,
      "metadata": {
        "colab": {
          "base_uri": "https://localhost:8080/",
          "height": 381
        },
        "id": "1UOtGomdvIDb",
        "outputId": "cef25aad-4299-447a-dc1d-e26106530f38"
      },
      "outputs": [],
      "source": [
        "import math\n",
        "import matplotlib.pyplot as plt\n",
        "import keras\n",
        "import pandas as pd\n",
        "import numpy as np\n",
        "from keras.models import Sequential\n",
        "from keras.layers import Dense\n",
        "from keras.layers import LSTM\n",
        "from keras.layers import Dropout\n",
        "from keras.layers import *\n",
        "from sklearn.preprocessing import MinMaxScaler\n",
        "from sklearn.metrics import mean_squared_error\n",
        "from sklearn.metrics import mean_absolute_error\n",
        "from sklearn.model_selection import train_test_split\n",
        "from keras.callbacks import EarlyStopping\n",
        "name   =\"EURUSD_M1_23yil_DataFrame\"\n",
        "#df=pd.read_csv(\"EURUSD.csv\")\n",
        "df = pd.read_csv(name+'.csv', engine='python')\n",
        "    \n",
        "print(\"Number of rows and columns:\", df.shape)\n",
        "#df = df.drop('Adj Close',axis=1)\n",
        "#df = df.drop('Volume',axis=1)\n",
        "import dill\n",
        "dill.dump_session(name+'.db')\n",
        "df.tail(10)"
      ]
    },
    {
      "cell_type": "code",
      "execution_count": null,
      "metadata": {
        "colab": {
          "base_uri": "https://localhost:8080/"
        },
        "id": "bs5L7M14vZ4m",
        "outputId": "1adbf32f-be54-4c43-9f41-2d13a2e0f94e"
      },
      "outputs": [],
      "source": [
        "df = df.drop('Date',axis=1)\n",
        "train_size = ((len(df)*90)//100)\n",
        "training_set = df.iloc[:train_size, 1:2].values\n",
        "test_set = df.iloc[train_size:, 1:2].values\n",
        "\n",
        "train_size,training_set[:5],test_set[:5]"
      ]
    },
    {
      "cell_type": "code",
      "execution_count": null,
      "metadata": {
        "id": "aEFktNmjviBp"
      },
      "outputs": [],
      "source": [
        "# Feature Scaling\n",
        "sc = MinMaxScaler(feature_range = (0, 1))\n",
        "training_set_scaled = sc.fit_transform(training_set)\n",
        "\n",
        "time_steps_train = 2\n",
        "\n",
        "# Creating a data structure with 2 time-steps and 1 output\n",
        "X_train = []\n",
        "y_train = []\n",
        "for i in range(time_steps_train, train_size):\n",
        "    X_train.append(training_set_scaled[i-time_steps_train:i, 0])\n",
        "    y_train.append(training_set_scaled[i, 0])\n",
        "X_train, y_train = np.array(X_train), np.array(y_train)\n",
        "X_train = np.reshape(X_train, (X_train.shape[0], X_train.shape[1], 1))\n",
        "#(740, 60, 1)"
      ]
    },
    {
      "cell_type": "code",
      "execution_count": null,
      "metadata": {
        "id": "z8zuD4cHtBLX"
      },
      "outputs": [],
      "source": [
        "# Getting the predicted\n",
        "dataset_train = df.iloc[:train_size, 1:2]\n",
        "dataset_test = df.iloc[train_size:, 1:2]\n",
        "dataset_total = pd.concat((dataset_train, dataset_test), axis = 0)\n",
        "inputs = dataset_total[len(dataset_total) - len(dataset_test) - time_steps_train:].values\n",
        "inputs = inputs.reshape(-1,1)\n",
        "inputs = sc.transform(inputs)\n",
        "X_test = []\n",
        "y_test = []\n",
        "for i in range(time_steps_train, len(df)-train_size+time_steps_train): #519\n",
        "    X_test.append(inputs[i-time_steps_train:i, 0])\n",
        "    y_test.append(inputs[i, 0])\n",
        "X_test = np.array(X_test)\n",
        "y_test = np.array(y_test)\n",
        "X_test.shape\n",
        "X_test = np.reshape(X_test, (X_test.shape[0], X_test.shape[1], 1))\n",
        "#y_test = np.reshape(y_test, (y_test.shape[0], y_test.shape[1], 1))\n",
        "print(X_test.shape,y_test.shape)\n",
        "#(459, 60, 1)"
      ]
    },
    {
      "cell_type": "code",
      "execution_count": null,
      "metadata": {
        "id": "NJT6G9K-vxJh"
      },
      "outputs": [],
      "source": [
        "model = Sequential()\n",
        "#Adding the first LSTM layer and some Dropout regularisation\n",
        "model.add(LSTM(units = 250, return_sequences = True, input_shape = (X_train.shape[1], 1)))\n",
        "model.add(Dropout(0.2))\n",
        "# Adding a second LSTM layer and some Dropout regularisation\n",
        "model.add(LSTM(units = 250, return_sequences = True))\n",
        "model.add(Dropout(0.2))\n",
        "# Adding a third LSTM layer and some Dropout regularisation\n",
        "model.add(LSTM(units = 250, return_sequences = True))\n",
        "model.add(Dropout(0.2))\n",
        "# Adding a fourth LSTM layer and some Dropout regularisation\n",
        "model.add(LSTM(units = 250))\n",
        "model.add(Dropout(0.2))\n",
        "# Adding the output layer\n",
        "model.add(Dense(units = 1))\n",
        "\n",
        "# Compiling the RNN\n",
        "model.compile(optimizer = 'adam', loss = 'mean_squared_error')\n",
        "\n",
        "# Fitting the RNN to the Training set"
      ]
    },
    {
      "cell_type": "code",
      "execution_count": null,
      "metadata": {
        "colab": {
          "base_uri": "https://localhost:8080/"
        },
        "id": "6R2BA7AoeFsM",
        "outputId": "52ac264b-e48c-4dcf-e652-c4528013f574"
      },
      "outputs": [],
      "source": [
        "model.fit(X_train, y_train, epochs = 10, batch_size = 4096)"
      ]
    },
    {
      "cell_type": "code",
      "execution_count": null,
      "metadata": {
        "id": "hAPL81idv4Gq"
      },
      "outputs": [],
      "source": [
        "predicted_stock_price = model.predict(X_test)\n",
        "predicted_stock_price = sc.inverse_transform(predicted_stock_price)"
      ]
    },
    {
      "cell_type": "code",
      "execution_count": null,
      "metadata": {
        "colab": {
          "base_uri": "https://localhost:8080/",
          "height": 294
        },
        "id": "BLcjUds4v5Ch",
        "outputId": "bfd6b341-6d61-467b-8b58-0f8fc2ac1fa3"
      },
      "outputs": [],
      "source": [
        "# Visualising the results\n",
        "plt.plot(df.loc[train_size:, \"Index\"],dataset_test.values, color = \"red\", label = \"Real Price\")\n",
        "plt.plot(df.loc[train_size:, \"Index\"],predicted_stock_price, color = \"blue\", label = \"Predicted Price\")\n",
        "#plt.xticks(np.arange(0,len(df),50))\n",
        "plt.title('Price Prediction')\n",
        "plt.xlabel('Time')\n",
        "plt.ylabel('Price')\n",
        "plt.legend()\n",
        "plt.show()"
      ]
    }
  ],
  "metadata": {
    "accelerator": "TPU",
    "colab": {
      "authorship_tag": "ABX9TyNz7/qVwa45IZOF0hKu1Uh0",
      "mount_file_id": "https://github.com/Ertadis2/LSTM-for-Forex/blob/main/LSTM_Done.ipynb",
      "name": "Untitled6.ipynb",
      "provenance": []
    },
    "kernelspec": {
      "display_name": "Python 3",
      "name": "python3"
    },
    "language_info": {
      "codemirror_mode": {
        "name": "ipython",
        "version": 3
      },
      "file_extension": ".py",
      "mimetype": "text/x-python",
      "name": "python",
      "nbconvert_exporter": "python",
      "pygments_lexer": "ipython3",
      "version": "3.9.5"
    }
  },
  "nbformat": 4,
  "nbformat_minor": 0
}
