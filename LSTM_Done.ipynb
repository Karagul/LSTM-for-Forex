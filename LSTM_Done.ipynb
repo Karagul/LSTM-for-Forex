{
  "nbformat": 4,
  "nbformat_minor": 0,
  "metadata": {
    "colab": {
      "name": "Untitled6.ipynb",
      "provenance": [],
      "mount_file_id": "https://github.com/Ertadis2/LSTM-for-Forex/blob/main/LSTM_Done.ipynb",
      "authorship_tag": "ABX9TyNz7/qVwa45IZOF0hKu1Uh0"
    },
    "kernelspec": {
      "name": "python3",
      "display_name": "Python 3"
    },
    "language_info": {
      "name": "python"
    },
    "accelerator": "TPU"
  },
  "cells": [
    {
      "cell_type": "code",
      "source": [
        "\"\"\"\n",
        "%tensorflow_version 2.x\n",
        "import tensorflow as tf\n",
        "print(\"Tensorflow version \" + tf.__version__)\n",
        "\n",
        "try:\n",
        "  tpu = tf.distribute.cluster_resolver.TPUClusterResolver()  # TPU detection\n",
        "  tf.config.experimental_connect_to_cluster(tpu)\n",
        "  tf.tpu.experimental.initialize_tpu_system(tpu)\n",
        "  tpu_strategy = tf.distribute.experimental.TPUStrategy(tpu)\n",
        "  print('Running on TPU ', tpu.cluster_spec().as_dict()['worker'])\n",
        "except ValueError:\n",
        "  raise BaseException('ERROR: Not connected to a TPU runtime; please see the previous cell in this notebook for instructions!')\n",
        "\"\"\""
      ],
      "metadata": {
        "id": "mF5Vd5p95Kqe"
      },
      "execution_count": null,
      "outputs": []
    },
    {
      "cell_type": "code",
      "execution_count": 11,
      "metadata": {
        "colab": {
          "base_uri": "https://localhost:8080/",
          "height": 381
        },
        "id": "1UOtGomdvIDb",
        "outputId": "cef25aad-4299-447a-dc1d-e26106530f38"
      },
      "outputs": [
        {
          "output_type": "stream",
          "name": "stdout",
          "text": [
            "Number of rows and columns: (1048575, 7)\n"
          ]
        },
        {
          "output_type": "execute_result",
          "data": {
            "text/html": [
              "\n",
              "  <div id=\"df-a23b8309-8016-40cb-ab85-d967e796d0e0\">\n",
              "    <div class=\"colab-df-container\">\n",
              "      <div>\n",
              "<style scoped>\n",
              "    .dataframe tbody tr th:only-of-type {\n",
              "        vertical-align: middle;\n",
              "    }\n",
              "\n",
              "    .dataframe tbody tr th {\n",
              "        vertical-align: top;\n",
              "    }\n",
              "\n",
              "    .dataframe thead th {\n",
              "        text-align: right;\n",
              "    }\n",
              "</style>\n",
              "<table border=\"1\" class=\"dataframe\">\n",
              "  <thead>\n",
              "    <tr style=\"text-align: right;\">\n",
              "      <th></th>\n",
              "      <th>Index</th>\n",
              "      <th>Open</th>\n",
              "      <th>High</th>\n",
              "      <th>Low</th>\n",
              "      <th>Close</th>\n",
              "      <th>sin</th>\n",
              "      <th>cos</th>\n",
              "    </tr>\n",
              "  </thead>\n",
              "  <tbody>\n",
              "    <tr>\n",
              "      <th>1048565</th>\n",
              "      <td>1048565</td>\n",
              "      <td>1.37663</td>\n",
              "      <td>1.37665</td>\n",
              "      <td>1.37650</td>\n",
              "      <td>1.37660</td>\n",
              "      <td>-0.38249</td>\n",
              "      <td>1.27099</td>\n",
              "    </tr>\n",
              "    <tr>\n",
              "      <th>1048566</th>\n",
              "      <td>1048566</td>\n",
              "      <td>1.37659</td>\n",
              "      <td>1.37747</td>\n",
              "      <td>1.37655</td>\n",
              "      <td>1.37738</td>\n",
              "      <td>-0.48360</td>\n",
              "      <td>1.29808</td>\n",
              "    </tr>\n",
              "    <tr>\n",
              "      <th>1048567</th>\n",
              "      <td>1048567</td>\n",
              "      <td>1.37740</td>\n",
              "      <td>1.37741</td>\n",
              "      <td>1.37704</td>\n",
              "      <td>1.37711</td>\n",
              "      <td>-0.58132</td>\n",
              "      <td>1.33559</td>\n",
              "    </tr>\n",
              "    <tr>\n",
              "      <th>1048568</th>\n",
              "      <td>1048568</td>\n",
              "      <td>1.37711</td>\n",
              "      <td>1.37716</td>\n",
              "      <td>1.37675</td>\n",
              "      <td>1.37675</td>\n",
              "      <td>-0.67458</td>\n",
              "      <td>1.38311</td>\n",
              "    </tr>\n",
              "    <tr>\n",
              "      <th>1048569</th>\n",
              "      <td>1048569</td>\n",
              "      <td>1.37674</td>\n",
              "      <td>1.37679</td>\n",
              "      <td>1.37652</td>\n",
              "      <td>1.37652</td>\n",
              "      <td>-0.76237</td>\n",
              "      <td>1.44012</td>\n",
              "    </tr>\n",
              "    <tr>\n",
              "      <th>1048570</th>\n",
              "      <td>1048570</td>\n",
              "      <td>1.37654</td>\n",
              "      <td>1.37694</td>\n",
              "      <td>1.37654</td>\n",
              "      <td>1.37670</td>\n",
              "      <td>-0.84371</td>\n",
              "      <td>1.50600</td>\n",
              "    </tr>\n",
              "    <tr>\n",
              "      <th>1048571</th>\n",
              "      <td>1048571</td>\n",
              "      <td>1.37669</td>\n",
              "      <td>1.37673</td>\n",
              "      <td>1.37657</td>\n",
              "      <td>1.37661</td>\n",
              "      <td>-0.91772</td>\n",
              "      <td>1.58001</td>\n",
              "    </tr>\n",
              "    <tr>\n",
              "      <th>1048572</th>\n",
              "      <td>1048572</td>\n",
              "      <td>1.37662</td>\n",
              "      <td>1.37684</td>\n",
              "      <td>1.37654</td>\n",
              "      <td>1.37682</td>\n",
              "      <td>-0.98360</td>\n",
              "      <td>1.66135</td>\n",
              "    </tr>\n",
              "    <tr>\n",
              "      <th>1048573</th>\n",
              "      <td>1048573</td>\n",
              "      <td>1.37682</td>\n",
              "      <td>1.37686</td>\n",
              "      <td>1.37668</td>\n",
              "      <td>1.37678</td>\n",
              "      <td>-1.04061</td>\n",
              "      <td>1.74914</td>\n",
              "    </tr>\n",
              "    <tr>\n",
              "      <th>1048574</th>\n",
              "      <td>1048574</td>\n",
              "      <td>1.37682</td>\n",
              "      <td>1.37687</td>\n",
              "      <td>1.37670</td>\n",
              "      <td>1.37670</td>\n",
              "      <td>-1.08813</td>\n",
              "      <td>1.84240</td>\n",
              "    </tr>\n",
              "  </tbody>\n",
              "</table>\n",
              "</div>\n",
              "      <button class=\"colab-df-convert\" onclick=\"convertToInteractive('df-a23b8309-8016-40cb-ab85-d967e796d0e0')\"\n",
              "              title=\"Convert this dataframe to an interactive table.\"\n",
              "              style=\"display:none;\">\n",
              "        \n",
              "  <svg xmlns=\"http://www.w3.org/2000/svg\" height=\"24px\"viewBox=\"0 0 24 24\"\n",
              "       width=\"24px\">\n",
              "    <path d=\"M0 0h24v24H0V0z\" fill=\"none\"/>\n",
              "    <path d=\"M18.56 5.44l.94 2.06.94-2.06 2.06-.94-2.06-.94-.94-2.06-.94 2.06-2.06.94zm-11 1L8.5 8.5l.94-2.06 2.06-.94-2.06-.94L8.5 2.5l-.94 2.06-2.06.94zm10 10l.94 2.06.94-2.06 2.06-.94-2.06-.94-.94-2.06-.94 2.06-2.06.94z\"/><path d=\"M17.41 7.96l-1.37-1.37c-.4-.4-.92-.59-1.43-.59-.52 0-1.04.2-1.43.59L10.3 9.45l-7.72 7.72c-.78.78-.78 2.05 0 2.83L4 21.41c.39.39.9.59 1.41.59.51 0 1.02-.2 1.41-.59l7.78-7.78 2.81-2.81c.8-.78.8-2.07 0-2.86zM5.41 20L4 18.59l7.72-7.72 1.47 1.35L5.41 20z\"/>\n",
              "  </svg>\n",
              "      </button>\n",
              "      \n",
              "  <style>\n",
              "    .colab-df-container {\n",
              "      display:flex;\n",
              "      flex-wrap:wrap;\n",
              "      gap: 12px;\n",
              "    }\n",
              "\n",
              "    .colab-df-convert {\n",
              "      background-color: #E8F0FE;\n",
              "      border: none;\n",
              "      border-radius: 50%;\n",
              "      cursor: pointer;\n",
              "      display: none;\n",
              "      fill: #1967D2;\n",
              "      height: 32px;\n",
              "      padding: 0 0 0 0;\n",
              "      width: 32px;\n",
              "    }\n",
              "\n",
              "    .colab-df-convert:hover {\n",
              "      background-color: #E2EBFA;\n",
              "      box-shadow: 0px 1px 2px rgba(60, 64, 67, 0.3), 0px 1px 3px 1px rgba(60, 64, 67, 0.15);\n",
              "      fill: #174EA6;\n",
              "    }\n",
              "\n",
              "    [theme=dark] .colab-df-convert {\n",
              "      background-color: #3B4455;\n",
              "      fill: #D2E3FC;\n",
              "    }\n",
              "\n",
              "    [theme=dark] .colab-df-convert:hover {\n",
              "      background-color: #434B5C;\n",
              "      box-shadow: 0px 1px 3px 1px rgba(0, 0, 0, 0.15);\n",
              "      filter: drop-shadow(0px 1px 2px rgba(0, 0, 0, 0.3));\n",
              "      fill: #FFFFFF;\n",
              "    }\n",
              "  </style>\n",
              "\n",
              "      <script>\n",
              "        const buttonEl =\n",
              "          document.querySelector('#df-a23b8309-8016-40cb-ab85-d967e796d0e0 button.colab-df-convert');\n",
              "        buttonEl.style.display =\n",
              "          google.colab.kernel.accessAllowed ? 'block' : 'none';\n",
              "\n",
              "        async function convertToInteractive(key) {\n",
              "          const element = document.querySelector('#df-a23b8309-8016-40cb-ab85-d967e796d0e0');\n",
              "          const dataTable =\n",
              "            await google.colab.kernel.invokeFunction('convertToInteractive',\n",
              "                                                     [key], {});\n",
              "          if (!dataTable) return;\n",
              "\n",
              "          const docLinkHtml = 'Like what you see? Visit the ' +\n",
              "            '<a target=\"_blank\" href=https://colab.research.google.com/notebooks/data_table.ipynb>data table notebook</a>'\n",
              "            + ' to learn more about interactive tables.';\n",
              "          element.innerHTML = '';\n",
              "          dataTable['output_type'] = 'display_data';\n",
              "          await google.colab.output.renderOutput(dataTable, element);\n",
              "          const docLink = document.createElement('div');\n",
              "          docLink.innerHTML = docLinkHtml;\n",
              "          element.appendChild(docLink);\n",
              "        }\n",
              "      </script>\n",
              "    </div>\n",
              "  </div>\n",
              "  "
            ],
            "text/plain": [
              "           Index     Open     High      Low    Close      sin      cos\n",
              "1048565  1048565  1.37663  1.37665  1.37650  1.37660 -0.38249  1.27099\n",
              "1048566  1048566  1.37659  1.37747  1.37655  1.37738 -0.48360  1.29808\n",
              "1048567  1048567  1.37740  1.37741  1.37704  1.37711 -0.58132  1.33559\n",
              "1048568  1048568  1.37711  1.37716  1.37675  1.37675 -0.67458  1.38311\n",
              "1048569  1048569  1.37674  1.37679  1.37652  1.37652 -0.76237  1.44012\n",
              "1048570  1048570  1.37654  1.37694  1.37654  1.37670 -0.84371  1.50600\n",
              "1048571  1048571  1.37669  1.37673  1.37657  1.37661 -0.91772  1.58001\n",
              "1048572  1048572  1.37662  1.37684  1.37654  1.37682 -0.98360  1.66135\n",
              "1048573  1048573  1.37682  1.37686  1.37668  1.37678 -1.04061  1.74914\n",
              "1048574  1048574  1.37682  1.37687  1.37670  1.37670 -1.08813  1.84240"
            ]
          },
          "metadata": {},
          "execution_count": 11
        }
      ],
      "source": [
        "import math\n",
        "import matplotlib.pyplot as plt\n",
        "import keras\n",
        "import pandas as pd\n",
        "import numpy as np\n",
        "from keras.models import Sequential\n",
        "from keras.layers import Dense\n",
        "from keras.layers import LSTM\n",
        "from keras.layers import Dropout\n",
        "from keras.layers import *\n",
        "from sklearn.preprocessing import MinMaxScaler\n",
        "from sklearn.metrics import mean_squared_error\n",
        "from sklearn.metrics import mean_absolute_error\n",
        "from sklearn.model_selection import train_test_split\n",
        "from keras.callbacks import EarlyStopping\n",
        "name   =\"M1_hazirVeri_toplu_2008-2022_dongulu\"\n",
        "#df=pd.read_csv(\"EURUSD.csv\")\n",
        "df = pd.read_csv('/content/drive/Othercomputers/2022 Masaüstü 2/Dersler 2022/Dersler-2021-2022-Donem-2/Lisans Github/EURUSD_'+name+'.csv', engine='python')\n",
        "    \n",
        "print(\"Number of rows and columns:\", df.shape)\n",
        "#df = df.drop('Adj Close',axis=1)\n",
        "#df = df.drop('Volume',axis=1)\n",
        "df.tail(10)"
      ]
    },
    {
      "cell_type": "code",
      "source": [
        "train_size = ((len(df)*90)//100)\n",
        "training_set = df.iloc[:train_size, 1:2].values\n",
        "test_set = df.iloc[train_size:, 1:2].values\n",
        "\n",
        "train_size,training_set[:5],test_set[:5]"
      ],
      "metadata": {
        "colab": {
          "base_uri": "https://localhost:8080/"
        },
        "id": "bs5L7M14vZ4m",
        "outputId": "1adbf32f-be54-4c43-9f41-2d13a2e0f94e"
      },
      "execution_count": 12,
      "outputs": [
        {
          "output_type": "execute_result",
          "data": {
            "text/plain": [
              "(943717, array([[1.4076],\n",
              "        [1.4074],\n",
              "        [1.4076],\n",
              "        [1.4081],\n",
              "        [1.4083]]), array([[1.44784],\n",
              "        [1.44815],\n",
              "        [1.4484 ],\n",
              "        [1.44836],\n",
              "        [1.4485 ]]))"
            ]
          },
          "metadata": {},
          "execution_count": 12
        }
      ]
    },
    {
      "cell_type": "code",
      "source": [
        "# Feature Scaling\n",
        "sc = MinMaxScaler(feature_range = (0, 1))\n",
        "training_set_scaled = sc.fit_transform(training_set)\n",
        "\n",
        "time_steps_train = 2\n",
        "\n",
        "# Creating a data structure with 2 time-steps and 1 output\n",
        "X_train = []\n",
        "y_train = []\n",
        "for i in range(time_steps_train, train_size):\n",
        "    X_train.append(training_set_scaled[i-time_steps_train:i, 0])\n",
        "    y_train.append(training_set_scaled[i, 0])\n",
        "X_train, y_train = np.array(X_train), np.array(y_train)\n",
        "X_train = np.reshape(X_train, (X_train.shape[0], X_train.shape[1], 1))\n",
        "#(740, 60, 1)"
      ],
      "metadata": {
        "id": "aEFktNmjviBp"
      },
      "execution_count": 16,
      "outputs": []
    },
    {
      "cell_type": "code",
      "source": [
        "# Getting the predicted\n",
        "dataset_train = df.iloc[:train_size, 1:2]\n",
        "dataset_test = df.iloc[train_size:, 1:2]\n",
        "dataset_total = pd.concat((dataset_train, dataset_test), axis = 0)\n",
        "inputs = dataset_total[len(dataset_total) - len(dataset_test) - time_steps_train:].values\n",
        "inputs = inputs.reshape(-1,1)\n",
        "inputs = sc.transform(inputs)\n",
        "X_test = []\n",
        "y_test = []\n",
        "for i in range(time_steps_train, len(df)-train_size+time_steps_train): #519\n",
        "    X_test.append(inputs[i-time_steps_train:i, 0])\n",
        "    y_test.append(inputs[i, 0])\n",
        "X_test = np.array(X_test)\n",
        "y_test = np.array(y_test)\n",
        "X_test.shape\n",
        "X_test = np.reshape(X_test, (X_test.shape[0], X_test.shape[1], 1))\n",
        "#y_test = np.reshape(y_test, (y_test.shape[0], y_test.shape[1], 1))\n",
        "print(X_test.shape,y_test.shape)\n",
        "#(459, 60, 1)"
      ],
      "metadata": {
        "id": "z8zuD4cHtBLX"
      },
      "execution_count": null,
      "outputs": []
    },
    {
      "cell_type": "code",
      "source": [
        "model = Sequential()\n",
        "#Adding the first LSTM layer and some Dropout regularisation\n",
        "model.add(LSTM(units = 250, return_sequences = True, input_shape = (X_train.shape[1], 1)))\n",
        "model.add(Dropout(0.2))\n",
        "# Adding a second LSTM layer and some Dropout regularisation\n",
        "model.add(LSTM(units = 250, return_sequences = True))\n",
        "model.add(Dropout(0.2))\n",
        "# Adding a third LSTM layer and some Dropout regularisation\n",
        "model.add(LSTM(units = 250, return_sequences = True))\n",
        "model.add(Dropout(0.2))\n",
        "# Adding a fourth LSTM layer and some Dropout regularisation\n",
        "model.add(LSTM(units = 250))\n",
        "model.add(Dropout(0.2))\n",
        "# Adding the output layer\n",
        "model.add(Dense(units = 1))\n",
        "\n",
        "# Compiling the RNN\n",
        "model.compile(optimizer = 'adam', loss = 'mean_squared_error')\n",
        "\n",
        "# Fitting the RNN to the Training set"
      ],
      "metadata": {
        "id": "NJT6G9K-vxJh"
      },
      "execution_count": 20,
      "outputs": []
    },
    {
      "cell_type": "code",
      "source": [
        "model.fit(X_train, y_train, epochs = 10, batch_size = 4096)"
      ],
      "metadata": {
        "colab": {
          "base_uri": "https://localhost:8080/"
        },
        "id": "6R2BA7AoeFsM",
        "outputId": "52ac264b-e48c-4dcf-e652-c4528013f574"
      },
      "execution_count": 21,
      "outputs": [
        {
          "output_type": "stream",
          "name": "stdout",
          "text": [
            "Epoch 1/10\n",
            "231/231 [==============================] - 41s 139ms/step - loss: 0.0165\n",
            "Epoch 2/10\n",
            "231/231 [==============================] - 32s 139ms/step - loss: 7.9717e-04\n",
            "Epoch 3/10\n",
            "231/231 [==============================] - 32s 139ms/step - loss: 6.4832e-04\n",
            "Epoch 4/10\n",
            "231/231 [==============================] - 32s 139ms/step - loss: 5.4469e-04\n",
            "Epoch 5/10\n",
            "231/231 [==============================] - 32s 140ms/step - loss: 4.8024e-04\n",
            "Epoch 6/10\n",
            "231/231 [==============================] - 32s 139ms/step - loss: 4.4370e-04\n",
            "Epoch 7/10\n",
            "231/231 [==============================] - 32s 138ms/step - loss: 4.2195e-04\n",
            "Epoch 8/10\n",
            "231/231 [==============================] - 32s 138ms/step - loss: 4.0838e-04\n",
            "Epoch 9/10\n",
            "231/231 [==============================] - 32s 139ms/step - loss: 3.9648e-04\n",
            "Epoch 10/10\n",
            "231/231 [==============================] - 32s 139ms/step - loss: 3.8716e-04\n"
          ]
        },
        {
          "output_type": "execute_result",
          "data": {
            "text/plain": [
              "<keras.callbacks.History at 0x7f92450387d0>"
            ]
          },
          "metadata": {},
          "execution_count": 21
        }
      ]
    },
    {
      "cell_type": "code",
      "source": [
        "predicted_stock_price = model.predict(X_test)\n",
        "predicted_stock_price = sc.inverse_transform(predicted_stock_price)"
      ],
      "metadata": {
        "id": "hAPL81idv4Gq"
      },
      "execution_count": 22,
      "outputs": []
    },
    {
      "cell_type": "code",
      "source": [
        "# Visualising the results\n",
        "plt.plot(df.loc[train_size:, \"Index\"],dataset_test.values, color = \"red\", label = \"Real Price\")\n",
        "plt.plot(df.loc[train_size:, \"Index\"],predicted_stock_price, color = \"blue\", label = \"Predicted Price\")\n",
        "#plt.xticks(np.arange(0,len(df),50))\n",
        "plt.title('Price Prediction')\n",
        "plt.xlabel('Time')\n",
        "plt.ylabel('Price')\n",
        "plt.legend()\n",
        "plt.show()"
      ],
      "metadata": {
        "id": "BLcjUds4v5Ch",
        "colab": {
          "base_uri": "https://localhost:8080/",
          "height": 294
        },
        "outputId": "bfd6b341-6d61-467b-8b58-0f8fc2ac1fa3"
      },
      "execution_count": 23,
      "outputs": [
        {
          "output_type": "display_data",
          "data": {
            "image/png": "[encoded data removed]",
            "text/plain": [
              "<Figure size 432x288 with 1 Axes>"
            ]
          },
          "metadata": {
            "needs_background": "light"
          }
        }
      ]
    }
  ]
}