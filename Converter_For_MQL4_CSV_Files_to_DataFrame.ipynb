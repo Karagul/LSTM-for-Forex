{
  "nbformat": 4,
  "nbformat_minor": 0,
  "metadata": {
    "colab": {
      "name": "Converter_For_MQL4_CSV_Files_to_DataFrame.ipynb",
      "provenance": [],
      "authorship_tag": "ABX9TyMHFPEzrc3XvfK3eoY+ndqa"
    },
    "kernelspec": {
      "name": "python3",
      "display_name": "Python 3"
    },
    "language_info": {
      "name": "python"
    }
  },
  "cells": [
    {
      "cell_type": "code",
      "execution_count": null,
      "metadata": {
        "id": "twW-PLgo_-0Z"
      },
      "outputs": [],
      "source": [
        "import numpy as np\n",
        "import matplotlib.pyplot as plt\n",
        "from numpy.core.fromnumeric import reshape\n",
        "import pandas as pd\n",
        "import datetime\n",
        "import time\n",
        "from sklearn import preprocessing\n",
        "import datetime\n",
        "#Where to specify how many rows and columns there are.\n",
        "ROWCOUNT = 1\n",
        "COLUMNCOUNT = 9\n",
        "#CSV file path and name\n",
        "name = \"WRITE YOUR FILE NAME HERE\"\n",
        "\n",
        "datas      = pd.read_csv(name, header=1)\n",
        "datas      = datas.values.tolist()\n",
        "\n",
        "#Automatically finds the number of rows. Note: It gives an error if the column number is entered incorrectly\n",
        "try :\n",
        "    datas      = np.array([[i.split('\\t') for i in k] for k in datas]).reshape(ROWCOUNT,COLUMNCOUNT)\n",
        "except Exception as e:\n",
        "    s = str(e).split()\n",
        "row = int(int(s[5])/COLUMNCOUNT)\n",
        "datas      = np.array([[i.split('\\t') for i in k] for k in datas]).reshape(row,COLUMNCOUNT)\n",
        "\n",
        "if COLUMNCOUNT ==8 :\n",
        "    datas_df   = pd.DataFrame(datas,columns=['Date','Open','High','Low','Close','Tickvol','Vol','Spread'])\n",
        "elif COLUMNCOUNT ==9:\n",
        "    datas_df   = pd.DataFrame(datas,columns=['Date','Time','Open','High','Low','Close','Tickvol','Vol','Spread'])\n",
        "\n",
        "#If you don't want to deal with having the file read over and over, use the comment line below.\n",
        "\n",
        "#import dill\n",
        "#dill.dump_session(path+name+'.db')\n",
        "\n",
        "datas_df"
      ]
    },
    {
      "cell_type": "code",
      "source": [
        "#To convert the date to timestamp format. Comment here if you don't want to use it.\n",
        "\n",
        "timestamp = datas_df['Date']\n",
        "\n",
        "if 'Time' in datas_df.columns:\n",
        "    timestamp = datetime.datetime.timestamp(datas_df['Date']+\" \"+datas_df['Time'],format='%Y.%m.%d %H:%M:%S')\n",
        "    datas_df = datas_df.drop('Time',axis=1)\n",
        "else :\n",
        "    timestamp =datetime.datetime.timestamp(datas_df['Date'],format='%Y.%m.%d')\n",
        "    \n",
        "#To discard unnecessary data.\n",
        "datas_df = datas_df.drop(columns=['Vol'])\n",
        "datas_df = datas_df.drop(columns=['Tickvol'])\n",
        "datas_df = datas_df.drop(columns=['Spread'])\n",
        "datas_df['Date'] = timestamp"
      ],
      "metadata": {
        "id": "BolFomUIBOzP"
      },
      "execution_count": null,
      "outputs": []
    },
    {
      "cell_type": "code",
      "source": [
        "#Activate this line if you want to use sin cos time loops instead of using the timestamp above.\n",
        "\"\"\"\n",
        "circles = pd.DatetimeIndex(datas_df['Date'])\n",
        "n2 = pd.DataFrame()\n",
        "m  = (2 * np.pi * circles.month/12)\n",
        "w  = (2 * np.pi * pd.Series(circles).dt.isocalendar().week/(52.177457))\n",
        "d  = (2 * np.pi * circles.day/(365.242199))\n",
        "h  = (2 * np.pi * circles.hour/24)\n",
        "mi = (2 * np.pi * circles.minute/60)\n",
        "\n",
        "n2['month_sin']  =  np.round(np.sin(m),5)\n",
        "n2['month_cos']  =  np.round(np.cos(m),5)\n",
        "n2['weekly_sin'] =  np.round(np.sin(w),5)\n",
        "n2['weekly_cos'] =  np.round(np.cos(w),5)\n",
        "n2['day_sin']   =  np.round(np.sin(d),5)\n",
        "n2['day_cos']   =  np.round(np.cos(d),5)\n",
        "n2['hour_sin']  =  np.round(np.sin(h),5)\n",
        "n2['hour_cos']  =  np.round(np.cos(h),5)\n",
        "n2['minute_sin'] = np.round(np.sin(mi),5)\n",
        "n2['minute_cos'] = np.round(np.cos(mi),5)\n",
        "\n",
        "datas_df = datas_df.drop(columns=['Date'])\n",
        "#datas_df = datas_df.drop(columns=['Time'])\n",
        "\"\"\"\n",
        "#To collect datetime OR circles and the rest of the data.\n",
        "datas_df = pd.concat([\n",
        "                      datas_df['Date'],\n",
        "                      datas_df['Timestamp'],\n",
        "                      datas_df['Open'],\n",
        "                      datas_df['High'],\n",
        "                      datas_df['Low'],\n",
        "                      datas_df['Close'],\n",
        "                      #n2['month_sin'],n2['month_cos'],\n",
        "                      #n2['weekly_sin'],n2['weekly_cos'],\n",
        "                      #n2['day_sin'],n2['day_cos'],\n",
        "                      #n2['hour_sin'],n2['hour_cos'],\n",
        "                      #n2['minute_sin'],n2['minute_cos']\n",
        "                      ],axis=1)\n",
        "datas_df"
      ],
      "metadata": {
        "id": "C6sEgPL0Bwo_"
      },
      "execution_count": null,
      "outputs": []
    },
    {
      "cell_type": "code",
      "source": [
        "#I have determined 2 different outputs according to which time type you have chosen.\n",
        "\n",
        "#datas_df.to_csv(path+name+\"_DataFrame\", columns =['Open','High','Low','Close',\"month_sin\",\"month_cos\",\"weekly_sin\",\"weekly_cos\",\"day_sin\",\"day_cos\",\"hour_sin\",\"hour_cos\",\"minute_sin\",\"minute_cos\"])\n",
        "datas_df.to_csv(name+\"_DataFrame\", columns =['Date','Open','High','Low','Close'])"
      ],
      "metadata": {
        "id": "IIBi6UNQDI7j"
      },
      "execution_count": null,
      "outputs": []
    }
  ]
}