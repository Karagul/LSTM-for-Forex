{
  "cells": [
    {
      "cell_type": "code",
      "execution_count": 1,
      "metadata": {},
      "outputs": [],
      "source": [
        "import numpy as np\n",
        "import matplotlib.pyplot as plt\n",
        "from numpy.core.fromnumeric import reshape\n",
        "import pandas as pd\n",
        "import datetime\n",
        "import time\n",
        "from sklearn import preprocessing\n",
        "import datetime\n",
        "#Where to specify how many rows and columns there are.\n",
        "#Note : Automatically finds the number of rows in the following lines\n",
        "ROWCOUNT = 1\n",
        "COLUMNCOUNT = 9\n",
        "#CSV file path and name\n",
        "name = \"FILE NAME WITHOUT EXTENSION\"\n",
        "\n",
        "datas      = pd.read_csv(name+\".csv\", header=1)\n",
        "datas      = datas.values.tolist()"
      ]
    },
    {
      "cell_type": "code",
      "execution_count": null,
      "metadata": {
        "id": "twW-PLgo_-0Z"
      },
      "outputs": [],
      "source": [
        "#Automatically finds the number of rows. Note: It gives an error if the column number is entered incorrectly\n",
        "try :\n",
        "    datas      = np.array([[i.split('\\t') for i in k] for k in datas]).reshape(ROWCOUNT,COLUMNCOUNT)\n",
        "except Exception as e:\n",
        "    s = str(e).split()\n",
        "row = int(int(s[5])/COLUMNCOUNT)\n",
        "datas      = np.array([[i.split('\\t') for i in k] for k in datas]).reshape(row,COLUMNCOUNT)\n",
        "\n",
        "if COLUMNCOUNT ==8 :\n",
        "    datas_df   = pd.DataFrame(datas,columns=['Date','Open','High','Low','Close','Tickvol','Vol','Spread'])\n",
        "elif COLUMNCOUNT ==9:\n",
        "    datas_df   = pd.DataFrame(datas,columns=['Date','Time','Open','High','Low','Close','Tickvol','Vol','Spread'])\n",
        "\n",
        "#If you don't want to deal with having the file read over and over, use the comment line below.\n",
        "\n",
        "#import dill\n",
        "#dill.dump_session(path+name+'.db')\n",
        "\n",
        "datas_df"
      ]
    },
    {
      "cell_type": "markdown",
      "metadata": {},
      "source": [
        "I set 3 different time outputs. \n",
        "\n",
        "1. Timestamp\n",
        "2. Sin Cos time loops\n",
        "3. Normal Datetime output. \n",
        "\n",
        "Don't forget to select one and comment or delete the others."
      ]
    },
    {
      "cell_type": "code",
      "execution_count": null,
      "metadata": {
        "id": "BolFomUIBOzP"
      },
      "outputs": [],
      "source": [
        "#Activate this line if you want to use to convert the date to timestamp format.\n",
        "\"\"\"\n",
        "timestamp = datas_df['Date']\n",
        "\n",
        "if 'Time' in datas_df.columns:\n",
        "    timestamp = datetime.datetime.timestamp(datas_df['Date']+\" \"+datas_df['Time'],format='%Y.%m.%d %H:%M:%S')\n",
        "    datas_df = datas_df.drop('Time',axis=1)\n",
        "else :\n",
        "    timestamp =datetime.datetime.timestamp(datas_df['Date'],format='%Y.%m.%d')\n",
        "    \n",
        "#To discard unnecessary data.\n",
        "datas_df = datas_df.drop(columns=['Vol'])\n",
        "datas_df = datas_df.drop(columns=['Tickvol'])\n",
        "datas_df = datas_df.drop(columns=['Spread'])\n",
        "datas_df['Date'] = timestamp\n",
        "\"\"\""
      ]
    },
    {
      "cell_type": "code",
      "execution_count": null,
      "metadata": {
        "id": "C6sEgPL0Bwo_"
      },
      "outputs": [],
      "source": [
        "#Activate this line if you want to use sin cos time loops instead of using the timestamp above.\n",
        "\"\"\"\n",
        "circles = pd.DatetimeIndex(datas_df['Date'])\n",
        "n2 = pd.DataFrame()\n",
        "m  = (2 * np.pi * circles.month/12)\n",
        "w  = (2 * np.pi * pd.Series(circles).dt.isocalendar().week/(52.177457))\n",
        "d  = (2 * np.pi * circles.day/(365.242199))\n",
        "h  = (2 * np.pi * circles.hour/24)\n",
        "mi = (2 * np.pi * circles.minute/60)\n",
        "\n",
        "n2['month_sin']  =  np.round(np.sin(m),5)\n",
        "n2['month_cos']  =  np.round(np.cos(m),5)\n",
        "n2['weekly_sin'] =  np.round(np.sin(w),5)\n",
        "n2['weekly_cos'] =  np.round(np.cos(w),5)\n",
        "n2['day_sin']   =  np.round(np.sin(d),5)\n",
        "n2['day_cos']   =  np.round(np.cos(d),5)\n",
        "n2['hour_sin']  =  np.round(np.sin(h),5)\n",
        "n2['hour_cos']  =  np.round(np.cos(h),5)\n",
        "n2['minute_sin'] = np.round(np.sin(mi),5)\n",
        "n2['minute_cos'] = np.round(np.cos(mi),5)\n",
        "\n",
        "datas_df = datas_df.drop(columns=['Date'])\n",
        "#datas_df = datas_df.drop(columns=['Time'])\n",
        "\"\"\""
      ]
    },
    {
      "cell_type": "code",
      "execution_count": 5,
      "metadata": {},
      "outputs": [],
      "source": [
        "#To use datetime as is. If you used another time method above, turn it into a comment line.\n",
        "\n",
        "datas_df['Date'] = pd.to_datetime(datas_df['Date']+\" \"+datas_df['Time'],format='%Y.%m.%d %H:%M:%S')"
      ]
    },
    {
      "cell_type": "code",
      "execution_count": null,
      "metadata": {},
      "outputs": [],
      "source": [
        "#To collect datetime OR circles and the rest of the data.\n",
        "datas_df = pd.concat([\n",
        "                      datas_df['Date'],\n",
        "                      #datas_df['Timestamp'],\n",
        "                      datas_df['Open'],\n",
        "                      datas_df['High'],\n",
        "                      datas_df['Low'],\n",
        "                      datas_df['Close'],\n",
        "                      #n2['month_sin'],n2['month_cos'],\n",
        "                      #n2['weekly_sin'],n2['weekly_cos'],\n",
        "                      #n2['day_sin'],n2['day_cos'],\n",
        "                      #n2['hour_sin'],n2['hour_cos'],\n",
        "                      #n2['minute_sin'],n2['minute_cos']\n",
        "                      ],axis=1)\n",
        "datas_df"
      ]
    },
    {
      "cell_type": "code",
      "execution_count": 7,
      "metadata": {
        "id": "IIBi6UNQDI7j"
      },
      "outputs": [],
      "source": [
        "#I have determined 3 different outputs according to which time type you have chosen.\n",
        "\n",
        "#datas_df.to_csv(name+\"_DataFrame\", columns =['Timestamp','Open','High','Low','Close'])\n",
        "#datas_df.to_csv(name+\"_DataFrame\", columns =['Open','High','Low','Close',\"month_sin\",\"month_cos\",\"weekly_sin\",\"weekly_cos\",\"day_sin\",\"day_cos\",\"hour_sin\",\"hour_cos\",\"minute_sin\",\"minute_cos\"])\n",
        "datas_df.to_csv(name+\"_DataFrame.csv\", columns =['Date','Open','High','Low','Close'])"
      ]
    }
  ],
  "metadata": {
    "colab": {
      "authorship_tag": "ABX9TyPAqsuQxQhtzRIkPviVV6B3",
      "name": "ConverterForMQL4-CSVFiles.ipynb",
      "provenance": []
    },
    "kernelspec": {
      "display_name": "Python 3",
      "name": "python3"
    },
    "language_info": {
      "name": "python"
    }
  },
  "nbformat": 4,
  "nbformat_minor": 0
}
