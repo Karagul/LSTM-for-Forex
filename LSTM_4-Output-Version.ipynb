{
  "nbformat": 4,
  "nbformat_minor": 0,
  "metadata": {
    "colab": {
      "name": "Untitled6.ipynb",
      "provenance": [],
      "mount_file_id": "https://github.com/Ertadis2/LSTM-for-Forex/blob/main/LSTM_Done.ipynb",
      "authorship_tag": "ABX9TyOZ/e9smjTRdvuTe4qRU60y"
    },
    "kernelspec": {
      "name": "python3",
      "display_name": "Python 3"
    },
    "language_info": {
      "name": "python"
    },
    "accelerator": "TPU"
  },
  "cells": [
    {
      "cell_type": "code",
      "source": [
        "\"\"\"\n",
        "%tensorflow_version 2.x\n",
        "import tensorflow as tf\n",
        "print(\"Tensorflow version \" + tf.__version__)\n",
        "\n",
        "try:\n",
        "  tpu = tf.distribute.cluster_resolver.TPUClusterResolver()  # TPU detection\n",
        "  tf.config.experimental_connect_to_cluster(tpu)\n",
        "  tf.tpu.experimental.initialize_tpu_system(tpu)\n",
        "  tpu_strategy = tf.distribute.experimental.TPUStrategy(tpu)\n",
        "  print('Running on TPU ', tpu.cluster_spec().as_dict()['worker'])\n",
        "except ValueError:\n",
        "  raise BaseException('ERROR: Not connected to a TPU runtime; please see the previous cell in this notebook for instructions!')\n",
        "\"\"\""
      ],
      "metadata": {
        "id": "mF5Vd5p95Kqe"
      },
      "execution_count": null,
      "outputs": []
    },
    {
      "cell_type": "code",
      "execution_count": 156,
      "metadata": {
        "colab": {
          "base_uri": "https://localhost:8080/",
          "height": 381
        },
        "id": "1UOtGomdvIDb",
        "outputId": "1f86f168-fcff-4303-949c-2db40e183f9f"
      },
      "outputs": [
        {
          "output_type": "stream",
          "name": "stdout",
          "text": [
            "Number of rows and columns: (1209, 5)\n"
          ]
        },
        {
          "output_type": "execute_result",
          "data": {
            "text/html": [
              "\n",
              "  <div id=\"df-e1b42d8d-9988-4dc7-beb2-5660cc2ec651\">\n",
              "    <div class=\"colab-df-container\">\n",
              "      <div>\n",
              "<style scoped>\n",
              "    .dataframe tbody tr th:only-of-type {\n",
              "        vertical-align: middle;\n",
              "    }\n",
              "\n",
              "    .dataframe tbody tr th {\n",
              "        vertical-align: top;\n",
              "    }\n",
              "\n",
              "    .dataframe thead th {\n",
              "        text-align: right;\n",
              "    }\n",
              "</style>\n",
              "<table border=\"1\" class=\"dataframe\">\n",
              "  <thead>\n",
              "    <tr style=\"text-align: right;\">\n",
              "      <th></th>\n",
              "      <th>Date</th>\n",
              "      <th>Open</th>\n",
              "      <th>High</th>\n",
              "      <th>Low</th>\n",
              "      <th>Close</th>\n",
              "    </tr>\n",
              "  </thead>\n",
              "  <tbody>\n",
              "    <tr>\n",
              "      <th>1199</th>\n",
              "      <td>2022-01-02</td>\n",
              "      <td>1.13693</td>\n",
              "      <td>1.13778</td>\n",
              "      <td>1.12723</td>\n",
              "      <td>1.13590</td>\n",
              "    </tr>\n",
              "    <tr>\n",
              "      <th>1200</th>\n",
              "      <td>2022-01-09</td>\n",
              "      <td>1.13550</td>\n",
              "      <td>1.14829</td>\n",
              "      <td>1.12853</td>\n",
              "      <td>1.14151</td>\n",
              "    </tr>\n",
              "    <tr>\n",
              "      <th>1201</th>\n",
              "      <td>2022-01-16</td>\n",
              "      <td>1.14117</td>\n",
              "      <td>1.14342</td>\n",
              "      <td>1.13010</td>\n",
              "      <td>1.13421</td>\n",
              "    </tr>\n",
              "    <tr>\n",
              "      <th>1202</th>\n",
              "      <td>2022-01-23</td>\n",
              "      <td>1.13371</td>\n",
              "      <td>1.13447</td>\n",
              "      <td>1.11214</td>\n",
              "      <td>1.11469</td>\n",
              "    </tr>\n",
              "    <tr>\n",
              "      <th>1203</th>\n",
              "      <td>2022-01-30</td>\n",
              "      <td>1.11406</td>\n",
              "      <td>1.14836</td>\n",
              "      <td>1.11378</td>\n",
              "      <td>1.14514</td>\n",
              "    </tr>\n",
              "    <tr>\n",
              "      <th>1204</th>\n",
              "      <td>2022-02-06</td>\n",
              "      <td>1.14573</td>\n",
              "      <td>1.14950</td>\n",
              "      <td>1.13297</td>\n",
              "      <td>1.13477</td>\n",
              "    </tr>\n",
              "    <tr>\n",
              "      <th>1205</th>\n",
              "      <td>2022-02-13</td>\n",
              "      <td>1.13376</td>\n",
              "      <td>1.13955</td>\n",
              "      <td>1.12800</td>\n",
              "      <td>1.13227</td>\n",
              "    </tr>\n",
              "    <tr>\n",
              "      <th>1206</th>\n",
              "      <td>2022-02-20</td>\n",
              "      <td>1.13145</td>\n",
              "      <td>1.13907</td>\n",
              "      <td>1.11063</td>\n",
              "      <td>1.12716</td>\n",
              "    </tr>\n",
              "    <tr>\n",
              "      <th>1207</th>\n",
              "      <td>2022-02-27</td>\n",
              "      <td>1.11295</td>\n",
              "      <td>1.12464</td>\n",
              "      <td>1.08852</td>\n",
              "      <td>1.09305</td>\n",
              "    </tr>\n",
              "    <tr>\n",
              "      <th>1208</th>\n",
              "      <td>2022-03-06</td>\n",
              "      <td>1.09255</td>\n",
              "      <td>1.11213</td>\n",
              "      <td>1.08060</td>\n",
              "      <td>1.09857</td>\n",
              "    </tr>\n",
              "  </tbody>\n",
              "</table>\n",
              "</div>\n",
              "      <button class=\"colab-df-convert\" onclick=\"convertToInteractive('df-e1b42d8d-9988-4dc7-beb2-5660cc2ec651')\"\n",
              "              title=\"Convert this dataframe to an interactive table.\"\n",
              "              style=\"display:none;\">\n",
              "        \n",
              "  <svg xmlns=\"http://www.w3.org/2000/svg\" height=\"24px\"viewBox=\"0 0 24 24\"\n",
              "       width=\"24px\">\n",
              "    <path d=\"M0 0h24v24H0V0z\" fill=\"none\"/>\n",
              "    <path d=\"M18.56 5.44l.94 2.06.94-2.06 2.06-.94-2.06-.94-.94-2.06-.94 2.06-2.06.94zm-11 1L8.5 8.5l.94-2.06 2.06-.94-2.06-.94L8.5 2.5l-.94 2.06-2.06.94zm10 10l.94 2.06.94-2.06 2.06-.94-2.06-.94-.94-2.06-.94 2.06-2.06.94z\"/><path d=\"M17.41 7.96l-1.37-1.37c-.4-.4-.92-.59-1.43-.59-.52 0-1.04.2-1.43.59L10.3 9.45l-7.72 7.72c-.78.78-.78 2.05 0 2.83L4 21.41c.39.39.9.59 1.41.59.51 0 1.02-.2 1.41-.59l7.78-7.78 2.81-2.81c.8-.78.8-2.07 0-2.86zM5.41 20L4 18.59l7.72-7.72 1.47 1.35L5.41 20z\"/>\n",
              "  </svg>\n",
              "      </button>\n",
              "      \n",
              "  <style>\n",
              "    .colab-df-container {\n",
              "      display:flex;\n",
              "      flex-wrap:wrap;\n",
              "      gap: 12px;\n",
              "    }\n",
              "\n",
              "    .colab-df-convert {\n",
              "      background-color: #E8F0FE;\n",
              "      border: none;\n",
              "      border-radius: 50%;\n",
              "      cursor: pointer;\n",
              "      display: none;\n",
              "      fill: #1967D2;\n",
              "      height: 32px;\n",
              "      padding: 0 0 0 0;\n",
              "      width: 32px;\n",
              "    }\n",
              "\n",
              "    .colab-df-convert:hover {\n",
              "      background-color: #E2EBFA;\n",
              "      box-shadow: 0px 1px 2px rgba(60, 64, 67, 0.3), 0px 1px 3px 1px rgba(60, 64, 67, 0.15);\n",
              "      fill: #174EA6;\n",
              "    }\n",
              "\n",
              "    [theme=dark] .colab-df-convert {\n",
              "      background-color: #3B4455;\n",
              "      fill: #D2E3FC;\n",
              "    }\n",
              "\n",
              "    [theme=dark] .colab-df-convert:hover {\n",
              "      background-color: #434B5C;\n",
              "      box-shadow: 0px 1px 3px 1px rgba(0, 0, 0, 0.15);\n",
              "      filter: drop-shadow(0px 1px 2px rgba(0, 0, 0, 0.3));\n",
              "      fill: #FFFFFF;\n",
              "    }\n",
              "  </style>\n",
              "\n",
              "      <script>\n",
              "        const buttonEl =\n",
              "          document.querySelector('#df-e1b42d8d-9988-4dc7-beb2-5660cc2ec651 button.colab-df-convert');\n",
              "        buttonEl.style.display =\n",
              "          google.colab.kernel.accessAllowed ? 'block' : 'none';\n",
              "\n",
              "        async function convertToInteractive(key) {\n",
              "          const element = document.querySelector('#df-e1b42d8d-9988-4dc7-beb2-5660cc2ec651');\n",
              "          const dataTable =\n",
              "            await google.colab.kernel.invokeFunction('convertToInteractive',\n",
              "                                                     [key], {});\n",
              "          if (!dataTable) return;\n",
              "\n",
              "          const docLinkHtml = 'Like what you see? Visit the ' +\n",
              "            '<a target=\"_blank\" href=https://colab.research.google.com/notebooks/data_table.ipynb>data table notebook</a>'\n",
              "            + ' to learn more about interactive tables.';\n",
              "          element.innerHTML = '';\n",
              "          dataTable['output_type'] = 'display_data';\n",
              "          await google.colab.output.renderOutput(dataTable, element);\n",
              "          const docLink = document.createElement('div');\n",
              "          docLink.innerHTML = docLinkHtml;\n",
              "          element.appendChild(docLink);\n",
              "        }\n",
              "      </script>\n",
              "    </div>\n",
              "  </div>\n",
              "  "
            ],
            "text/plain": [
              "            Date     Open     High      Low    Close\n",
              "1199  2022-01-02  1.13693  1.13778  1.12723  1.13590\n",
              "1200  2022-01-09  1.13550  1.14829  1.12853  1.14151\n",
              "1201  2022-01-16  1.14117  1.14342  1.13010  1.13421\n",
              "1202  2022-01-23  1.13371  1.13447  1.11214  1.11469\n",
              "1203  2022-01-30  1.11406  1.14836  1.11378  1.14514\n",
              "1204  2022-02-06  1.14573  1.14950  1.13297  1.13477\n",
              "1205  2022-02-13  1.13376  1.13955  1.12800  1.13227\n",
              "1206  2022-02-20  1.13145  1.13907  1.11063  1.12716\n",
              "1207  2022-02-27  1.11295  1.12464  1.08852  1.09305\n",
              "1208  2022-03-06  1.09255  1.11213  1.08060  1.09857"
            ]
          },
          "metadata": {},
          "execution_count": 156
        }
      ],
      "source": [
        "import math\n",
        "import matplotlib.pyplot as plt\n",
        "import keras\n",
        "import pandas as pd\n",
        "import numpy as np\n",
        "from keras.models import Sequential\n",
        "from keras.layers import Dense\n",
        "from keras.layers import LSTM\n",
        "from keras.layers import Dropout\n",
        "from keras.layers import *\n",
        "from sklearn.preprocessing import MinMaxScaler\n",
        "from sklearn.metrics import mean_squared_error\n",
        "from sklearn.metrics import mean_absolute_error\n",
        "from sklearn.model_selection import train_test_split\n",
        "from keras.callbacks import EarlyStopping\n",
        "#name   =\"M1_hazirVeri_toplu_2008-2022_dongulu\"\n",
        "path = \"/content/drive/MyDrive/EURUSD_Weekly_23yil_DataFrame\"\n",
        "#df = pd.read_csv(path+\".csv\")\n",
        "#df = pd.DataFrame(df,columns=['Date','Open',\"High\",\"Low\",\"Close\"])\n",
        "\n",
        "import dill\n",
        "#dill.dump_session(path+'.db')\n",
        "dill.load_session(path+'.db')\n",
        "print(\"Number of rows and columns:\", df.shape)\n",
        "df.tail(10)"
      ]
    },
    {
      "cell_type": "code",
      "source": [
        "train_size = ((len(df)*90)//100)\n",
        "training_set = df.iloc[:train_size, 1:5].values\n",
        "test_set = df.iloc[train_size:, 1:5].values\n",
        "\n",
        "training_set,'Done'"
      ],
      "metadata": {
        "colab": {
          "base_uri": "https://localhost:8080/"
        },
        "id": "bs5L7M14vZ4m",
        "outputId": "fc89e44a-648b-4bb9-df39-e5f287df6e5f"
      },
      "execution_count": 157,
      "outputs": [
        {
          "output_type": "execute_result",
          "data": {
            "text/plain": [
              "(array([[1.1575 , 1.179  , 1.1447 , 1.1563 ],\n",
              "        [1.1565 , 1.1642 , 1.1539 , 1.1587 ],\n",
              "        [1.1579 , 1.1608 , 1.1342 , 1.1367 ],\n",
              "        ...,\n",
              "        [1.10788, 1.11756, 1.10735, 1.11648],\n",
              "        [1.11687, 1.11753, 1.10166, 1.10189],\n",
              "        [1.10185, 1.10567, 1.0989 , 1.10515]]), 'Done')"
            ]
          },
          "metadata": {},
          "execution_count": 157
        }
      ]
    },
    {
      "cell_type": "code",
      "source": [
        "# Feature Scaling\n",
        "sc = MinMaxScaler(feature_range = (0, 1))\n",
        "training_set_scaled = training_set#sc.fit_transform(training_set)\n",
        "\n",
        "def create_dataset(dataset, look_back):\n",
        "    dataX, dataY = [], []\n",
        "    for i in range(len(dataset)-look_back):\n",
        "        a = dataset[i:(i + look_back), 0]\n",
        "        dataX.append(a)\n",
        "        dataY.append(dataset[i + look_back, 1:4])\n",
        "    return np.array(dataX), np.array(dataY)\n",
        "\n",
        "# Create the data to train our model on:\n",
        "time_steps_train = 2\n",
        "X_train, y_train = create_dataset(training_set_scaled, time_steps_train)\n",
        "print(y_train)\n",
        "# reshape it [samples, time steps, features]\n",
        "X_train = np.reshape(X_train, (X_train.shape[0], X_train.shape[1], 1))\n",
        "\n",
        "print(X_train) # 1222, 36, 1\n",
        "#(740, 60, 1)\n",
        "'Done'"
      ],
      "metadata": {
        "id": "aEFktNmjviBp",
        "colab": {
          "base_uri": "https://localhost:8080/",
          "height": 515
        },
        "outputId": "26dd56f2-2065-4c74-a94d-d013a65d9bed"
      },
      "execution_count": 158,
      "outputs": [
        {
          "output_type": "stream",
          "name": "stdout",
          "text": [
            "[[1.1608  1.1342  1.1367 ]\n",
            " [1.1397  1.1247  1.126  ]\n",
            " [1.136   1.1214  1.1306 ]\n",
            " ...\n",
            " [1.11756 1.10735 1.11648]\n",
            " [1.11753 1.10166 1.10189]\n",
            " [1.10567 1.0989  1.10515]]\n",
            "[[[1.1575 ]\n",
            "  [1.1565 ]]\n",
            "\n",
            " [[1.1565 ]\n",
            "  [1.1579 ]]\n",
            "\n",
            " [[1.1579 ]\n",
            "  [1.1383 ]]\n",
            "\n",
            " ...\n",
            "\n",
            " [[1.10314]\n",
            "  [1.11604]]\n",
            "\n",
            " [[1.11604]\n",
            "  [1.10788]]\n",
            "\n",
            " [[1.10788]\n",
            "  [1.11687]]]\n"
          ]
        },
        {
          "output_type": "execute_result",
          "data": {
            "application/vnd.google.colaboratory.intrinsic+json": {
              "type": "string"
            },
            "text/plain": [
              "'Done'"
            ]
          },
          "metadata": {},
          "execution_count": 158
        }
      ]
    },
    {
      "cell_type": "code",
      "source": [
        "# Getting the predicted stock price of 2017\n",
        "dataset_train = df.iloc[:train_size, 1:2]\n",
        "dataset_test = df.iloc[train_size:, 1:2]\n",
        "dataset_total = pd.concat((dataset_train, dataset_test), axis = 0)\n",
        "inputs = dataset_total[len(dataset_total) - len(dataset_test) - time_steps_train:].values\n",
        "inputs = inputs.reshape(-1,1)\n",
        "#inputs = sc.transform(inputs)\n",
        "X_test = []\n",
        "for i in range(time_steps_train, len(df)-train_size+time_steps_train): #519\n",
        "    X_test.append(inputs[i-time_steps_train:i, 0])\n",
        "X_test = np.array(X_test)\n",
        "X_test.shape\n",
        "X_test = np.reshape(X_test, (X_test.shape[0], X_test.shape[1], 1))\n",
        "print(X_test.shape)\n",
        "#(459, 60, 1)"
      ],
      "metadata": {
        "colab": {
          "base_uri": "https://localhost:8080/"
        },
        "id": "z8zuD4cHtBLX",
        "outputId": "04a78728-3d71-43d7-9da8-1fe6075cc7a6"
      },
      "execution_count": 159,
      "outputs": [
        {
          "output_type": "stream",
          "name": "stdout",
          "text": [
            "(121, 2, 1)\n"
          ]
        }
      ]
    },
    {
      "cell_type": "code",
      "source": [
        "model = Sequential()\n",
        "#Adding the first LSTM layer and some Dropout regularisation\n",
        "model.add(LSTM(units = 250, return_sequences = True, input_shape = (X_train.shape[1], 1)))\n",
        "model.add(Dropout(0.2))\n",
        "# Adding a second LSTM layer and some Dropout regularisation\n",
        "model.add(LSTM(units = 250, return_sequences = True))\n",
        "model.add(Dropout(0.2))\n",
        "# Adding a third LSTM layer and some Dropout regularisation\n",
        "model.add(LSTM(units = 250, return_sequences = True))\n",
        "model.add(Dropout(0.2))\n",
        "# Adding a fourth LSTM layer and some Dropout regularisation\n",
        "model.add(LSTM(units = 250))\n",
        "model.add(Dropout(0.2))\n",
        "# Adding the output layer\n",
        "model.add(Dense(units = 3))\n",
        "\n",
        "# Compiling the RNN\n",
        "model.compile(optimizer = 'adam', loss = 'mean_squared_error')\n",
        "\n",
        "# Fitting the RNN to the Training set\n",
        "'Done'"
      ],
      "metadata": {
        "id": "NJT6G9K-vxJh",
        "colab": {
          "base_uri": "https://localhost:8080/",
          "height": 36
        },
        "outputId": "46b828fc-1004-4f23-a4ae-63e8a24ec2cc"
      },
      "execution_count": 160,
      "outputs": [
        {
          "output_type": "execute_result",
          "data": {
            "application/vnd.google.colaboratory.intrinsic+json": {
              "type": "string"
            },
            "text/plain": [
              "'Done'"
            ]
          },
          "metadata": {},
          "execution_count": 160
        }
      ]
    },
    {
      "cell_type": "code",
      "source": [
        "model.fit(X_train, y_train, epochs = 100, batch_size = 4096 )"
      ],
      "metadata": {
        "colab": {
          "base_uri": "https://localhost:8080/"
        },
        "id": "6R2BA7AoeFsM",
        "outputId": "80b1b295-ded0-4573-9f5b-d8921e06783e"
      },
      "execution_count": 161,
      "outputs": [
        {
          "output_type": "stream",
          "name": "stdout",
          "text": [
            "Epoch 1/100\n",
            "1/1 [==============================] - 10s 10s/step - loss: 1.4760\n",
            "Epoch 2/100\n",
            "1/1 [==============================] - 0s 147ms/step - loss: 1.4543\n",
            "Epoch 3/100\n",
            "1/1 [==============================] - 0s 140ms/step - loss: 1.4292\n",
            "Epoch 4/100\n",
            "1/1 [==============================] - 0s 141ms/step - loss: 1.3967\n",
            "Epoch 5/100\n",
            "1/1 [==============================] - 0s 143ms/step - loss: 1.3533\n",
            "Epoch 6/100\n",
            "1/1 [==============================] - 0s 138ms/step - loss: 1.2950\n",
            "Epoch 7/100\n",
            "1/1 [==============================] - 0s 139ms/step - loss: 1.2174\n",
            "Epoch 8/100\n",
            "1/1 [==============================] - 0s 140ms/step - loss: 1.1155\n",
            "Epoch 9/100\n",
            "1/1 [==============================] - 0s 148ms/step - loss: 0.9805\n",
            "Epoch 10/100\n",
            "1/1 [==============================] - 0s 138ms/step - loss: 0.8116\n",
            "Epoch 11/100\n",
            "1/1 [==============================] - 0s 137ms/step - loss: 0.6052\n",
            "Epoch 12/100\n",
            "1/1 [==============================] - 0s 140ms/step - loss: 0.3705\n",
            "Epoch 13/100\n",
            "1/1 [==============================] - 0s 144ms/step - loss: 0.1408\n",
            "Epoch 14/100\n",
            "1/1 [==============================] - 0s 138ms/step - loss: 0.0164\n",
            "Epoch 15/100\n",
            "1/1 [==============================] - 0s 137ms/step - loss: 0.1725\n",
            "Epoch 16/100\n",
            "1/1 [==============================] - 0s 141ms/step - loss: 0.3164\n",
            "Epoch 17/100\n",
            "1/1 [==============================] - 0s 140ms/step - loss: 0.2485\n",
            "Epoch 18/100\n",
            "1/1 [==============================] - 0s 143ms/step - loss: 0.1123\n",
            "Epoch 19/100\n",
            "1/1 [==============================] - 0s 146ms/step - loss: 0.0272\n",
            "Epoch 20/100\n",
            "1/1 [==============================] - 0s 141ms/step - loss: 0.0119\n",
            "Epoch 21/100\n",
            "1/1 [==============================] - 0s 143ms/step - loss: 0.0350\n",
            "Epoch 22/100\n",
            "1/1 [==============================] - 0s 136ms/step - loss: 0.0706\n",
            "Epoch 23/100\n",
            "1/1 [==============================] - 0s 141ms/step - loss: 0.1015\n",
            "Epoch 24/100\n",
            "1/1 [==============================] - 0s 138ms/step - loss: 0.1149\n",
            "Epoch 25/100\n",
            "1/1 [==============================] - 0s 137ms/step - loss: 0.1168\n",
            "Epoch 26/100\n",
            "1/1 [==============================] - 0s 141ms/step - loss: 0.1042\n",
            "Epoch 27/100\n",
            "1/1 [==============================] - 0s 139ms/step - loss: 0.0817\n",
            "Epoch 28/100\n",
            "1/1 [==============================] - 0s 138ms/step - loss: 0.0557\n",
            "Epoch 29/100\n",
            "1/1 [==============================] - 0s 144ms/step - loss: 0.0338\n",
            "Epoch 30/100\n",
            "1/1 [==============================] - 0s 144ms/step - loss: 0.0174\n",
            "Epoch 31/100\n",
            "1/1 [==============================] - 0s 140ms/step - loss: 0.0152\n",
            "Epoch 32/100\n",
            "1/1 [==============================] - 0s 138ms/step - loss: 0.0240\n",
            "Epoch 33/100\n",
            "1/1 [==============================] - 0s 143ms/step - loss: 0.0374\n",
            "Epoch 34/100\n",
            "1/1 [==============================] - 0s 143ms/step - loss: 0.0493\n",
            "Epoch 35/100\n",
            "1/1 [==============================] - 0s 142ms/step - loss: 0.0475\n",
            "Epoch 36/100\n",
            "1/1 [==============================] - 0s 136ms/step - loss: 0.0373\n",
            "Epoch 37/100\n",
            "1/1 [==============================] - 0s 139ms/step - loss: 0.0267\n",
            "Epoch 38/100\n",
            "1/1 [==============================] - 0s 140ms/step - loss: 0.0170\n",
            "Epoch 39/100\n",
            "1/1 [==============================] - 0s 138ms/step - loss: 0.0141\n",
            "Epoch 40/100\n",
            "1/1 [==============================] - 0s 143ms/step - loss: 0.0152\n",
            "Epoch 41/100\n",
            "1/1 [==============================] - 0s 138ms/step - loss: 0.0195\n",
            "Epoch 42/100\n",
            "1/1 [==============================] - 0s 146ms/step - loss: 0.0253\n",
            "Epoch 43/100\n",
            "1/1 [==============================] - 0s 149ms/step - loss: 0.0273\n",
            "Epoch 44/100\n",
            "1/1 [==============================] - 0s 142ms/step - loss: 0.0276\n",
            "Epoch 45/100\n",
            "1/1 [==============================] - 0s 138ms/step - loss: 0.0249\n",
            "Epoch 46/100\n",
            "1/1 [==============================] - 0s 141ms/step - loss: 0.0210\n",
            "Epoch 47/100\n",
            "1/1 [==============================] - 0s 147ms/step - loss: 0.0176\n",
            "Epoch 48/100\n",
            "1/1 [==============================] - 0s 139ms/step - loss: 0.0139\n",
            "Epoch 49/100\n",
            "1/1 [==============================] - 0s 142ms/step - loss: 0.0134\n",
            "Epoch 50/100\n",
            "1/1 [==============================] - 0s 142ms/step - loss: 0.0142\n",
            "Epoch 51/100\n",
            "1/1 [==============================] - 0s 140ms/step - loss: 0.0153\n",
            "Epoch 52/100\n",
            "1/1 [==============================] - 0s 143ms/step - loss: 0.0187\n",
            "Epoch 53/100\n",
            "1/1 [==============================] - 0s 141ms/step - loss: 0.0187\n",
            "Epoch 54/100\n",
            "1/1 [==============================] - 0s 142ms/step - loss: 0.0175\n",
            "Epoch 55/100\n",
            "1/1 [==============================] - 0s 147ms/step - loss: 0.0157\n",
            "Epoch 56/100\n",
            "1/1 [==============================] - 0s 139ms/step - loss: 0.0141\n",
            "Epoch 57/100\n",
            "1/1 [==============================] - 0s 143ms/step - loss: 0.0132\n",
            "Epoch 58/100\n",
            "1/1 [==============================] - 0s 145ms/step - loss: 0.0131\n",
            "Epoch 59/100\n",
            "1/1 [==============================] - 0s 135ms/step - loss: 0.0141\n",
            "Epoch 60/100\n",
            "1/1 [==============================] - 0s 144ms/step - loss: 0.0152\n",
            "Epoch 61/100\n",
            "1/1 [==============================] - 0s 145ms/step - loss: 0.0155\n",
            "Epoch 62/100\n",
            "1/1 [==============================] - 0s 145ms/step - loss: 0.0160\n",
            "Epoch 63/100\n",
            "1/1 [==============================] - 0s 137ms/step - loss: 0.0140\n",
            "Epoch 64/100\n",
            "1/1 [==============================] - 0s 140ms/step - loss: 0.0140\n",
            "Epoch 65/100\n",
            "1/1 [==============================] - 0s 143ms/step - loss: 0.0130\n",
            "Epoch 66/100\n",
            "1/1 [==============================] - 0s 140ms/step - loss: 0.0122\n",
            "Epoch 67/100\n",
            "1/1 [==============================] - 0s 149ms/step - loss: 0.0127\n",
            "Epoch 68/100\n",
            "1/1 [==============================] - 0s 154ms/step - loss: 0.0133\n",
            "Epoch 69/100\n",
            "1/1 [==============================] - 0s 143ms/step - loss: 0.0138\n",
            "Epoch 70/100\n",
            "1/1 [==============================] - 0s 144ms/step - loss: 0.0136\n",
            "Epoch 71/100\n",
            "1/1 [==============================] - 0s 144ms/step - loss: 0.0134\n",
            "Epoch 72/100\n",
            "1/1 [==============================] - 0s 145ms/step - loss: 0.0128\n",
            "Epoch 73/100\n",
            "1/1 [==============================] - 0s 141ms/step - loss: 0.0127\n",
            "Epoch 74/100\n",
            "1/1 [==============================] - 0s 141ms/step - loss: 0.0129\n",
            "Epoch 75/100\n",
            "1/1 [==============================] - 0s 142ms/step - loss: 0.0121\n",
            "Epoch 76/100\n",
            "1/1 [==============================] - 0s 142ms/step - loss: 0.0127\n",
            "Epoch 77/100\n",
            "1/1 [==============================] - 0s 138ms/step - loss: 0.0123\n",
            "Epoch 78/100\n",
            "1/1 [==============================] - 0s 143ms/step - loss: 0.0134\n",
            "Epoch 79/100\n",
            "1/1 [==============================] - 0s 142ms/step - loss: 0.0126\n",
            "Epoch 80/100\n",
            "1/1 [==============================] - 0s 136ms/step - loss: 0.0128\n",
            "Epoch 81/100\n",
            "1/1 [==============================] - 0s 147ms/step - loss: 0.0124\n",
            "Epoch 82/100\n",
            "1/1 [==============================] - 0s 141ms/step - loss: 0.0121\n",
            "Epoch 83/100\n",
            "1/1 [==============================] - 0s 141ms/step - loss: 0.0122\n",
            "Epoch 84/100\n",
            "1/1 [==============================] - 0s 141ms/step - loss: 0.0123\n",
            "Epoch 85/100\n",
            "1/1 [==============================] - 0s 142ms/step - loss: 0.0124\n",
            "Epoch 86/100\n",
            "1/1 [==============================] - 0s 139ms/step - loss: 0.0120\n",
            "Epoch 87/100\n",
            "1/1 [==============================] - 0s 143ms/step - loss: 0.0117\n",
            "Epoch 88/100\n",
            "1/1 [==============================] - 0s 143ms/step - loss: 0.0117\n",
            "Epoch 89/100\n",
            "1/1 [==============================] - 0s 140ms/step - loss: 0.0121\n",
            "Epoch 90/100\n",
            "1/1 [==============================] - 0s 135ms/step - loss: 0.0120\n",
            "Epoch 91/100\n",
            "1/1 [==============================] - 0s 141ms/step - loss: 0.0114\n",
            "Epoch 92/100\n",
            "1/1 [==============================] - 0s 141ms/step - loss: 0.0119\n",
            "Epoch 93/100\n",
            "1/1 [==============================] - 0s 144ms/step - loss: 0.0118\n",
            "Epoch 94/100\n",
            "1/1 [==============================] - 0s 143ms/step - loss: 0.0118\n",
            "Epoch 95/100\n",
            "1/1 [==============================] - 0s 146ms/step - loss: 0.0122\n",
            "Epoch 96/100\n",
            "1/1 [==============================] - 0s 148ms/step - loss: 0.0115\n",
            "Epoch 97/100\n",
            "1/1 [==============================] - 0s 138ms/step - loss: 0.0118\n",
            "Epoch 98/100\n",
            "1/1 [==============================] - 0s 139ms/step - loss: 0.0116\n",
            "Epoch 99/100\n",
            "1/1 [==============================] - 0s 144ms/step - loss: 0.0120\n",
            "Epoch 100/100\n",
            "1/1 [==============================] - 0s 143ms/step - loss: 0.0121\n"
          ]
        },
        {
          "output_type": "execute_result",
          "data": {
            "text/plain": [
              "<keras.callbacks.History at 0x7f463a1721d0>"
            ]
          },
          "metadata": {},
          "execution_count": 161
        }
      ]
    },
    {
      "cell_type": "code",
      "source": [
        "predicted_stock_price = model.predict(X_test)\n",
        "#predicted_stock_price = sc.inverse_transform(predicted_stock_price)\n",
        "'Done'"
      ],
      "metadata": {
        "id": "hAPL81idv4Gq",
        "colab": {
          "base_uri": "https://localhost:8080/",
          "height": 36
        },
        "outputId": "33d2164f-49a9-44db-8e84-4bddec96b5ce"
      },
      "execution_count": 162,
      "outputs": [
        {
          "output_type": "execute_result",
          "data": {
            "application/vnd.google.colaboratory.intrinsic+json": {
              "type": "string"
            },
            "text/plain": [
              "'Done'"
            ]
          },
          "metadata": {},
          "execution_count": 162
        }
      ]
    },
    {
      "cell_type": "code",
      "source": [
        "dataset_test.shape,predicted_stock_price.shape"
      ],
      "metadata": {
        "id": "sWmaGnFfJTWa",
        "outputId": "b824b6da-b7d0-418d-f6d7-bc6720ff8085",
        "colab": {
          "base_uri": "https://localhost:8080/"
        }
      },
      "execution_count": 163,
      "outputs": [
        {
          "output_type": "execute_result",
          "data": {
            "text/plain": [
              "((121, 1), (121, 3))"
            ]
          },
          "metadata": {},
          "execution_count": 163
        }
      ]
    },
    {
      "cell_type": "code",
      "source": [
        "# Visualising the results\n",
        "plt.plot(df.loc[train_size:, \"Date\"],dataset_test.values,   color = \"red\",  label = \"Real Price\")\n",
        "plt.plot(df.loc[train_size:, \"Date\"],predicted_stock_price, color = \"blue\", label = \"Predicted Price\")\n",
        "#plt.xticks(np.arange(0,len(df),50))\n",
        "plt.title('Price Prediction')\n",
        "plt.xlabel('Time')\n",
        "plt.ylabel('Price')\n",
        "plt.legend()\n",
        "plt.show()\n",
        "'Done'"
      ],
      "metadata": {
        "id": "BLcjUds4v5Ch",
        "colab": {
          "base_uri": "https://localhost:8080/",
          "height": 314
        },
        "outputId": "a999e323-1046-43ff-f5b3-7fd91ae95e4e"
      },
      "execution_count": 164,
      "outputs": [
        {
          "output_type": "display_data",
          "data": {
            "image/png": "[encoded data removed]",
            "text/plain": [
              "<Figure size 432x288 with 1 Axes>"
            ]
          },
          "metadata": {
            "needs_background": "light"
          }
        },
        {
          "output_type": "execute_result",
          "data": {
            "application/vnd.google.colaboratory.intrinsic+json": {
              "type": "string"
            },
            "text/plain": [
              "'Done'"
            ]
          },
          "metadata": {},
          "execution_count": 164
        }
      ]
    }
  ]
}